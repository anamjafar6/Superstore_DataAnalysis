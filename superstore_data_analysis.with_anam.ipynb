{
 "cells": [
  {
   "cell_type": "markdown",
   "metadata": {},
   "source": [
    "# Project:  Super Store Data Analysis and Price Prediction\n",
    "**Author:** Anam Jafar\\\n",
    "**Dataset Source:** Artificially Generated Dataset for Educational Purposes\\\n",
    "**Objective:** Perform data analysis to uncover sales trends and customer behavior, and build supervised machine learning models to predict price per unit based on sales-related features.\\\n",
    "**Start Date:** 15-12-24  \\\n",
    "**Tools Used:** Python (pandas, matplotlib, seaborn, scikit-learn)  "
   ]
  },
  {
   "cell_type": "markdown",
   "metadata": {},
   "source": [
    "## Import libraries and load the dataset"
   ]
  },
  {
   "cell_type": "code",
   "execution_count": 1,
   "metadata": {},
   "outputs": [],
   "source": [
    "# importing libraries\n",
    "import pandas as pd\n",
    "import numpy as np\n",
    "import matplotlib.pyplot as pllt\n",
    "import seaborn as sns"
   ]
  },
  {
   "cell_type": "code",
   "execution_count": 2,
   "metadata": {},
   "outputs": [
    {
     "data": {
      "text/html": [
       "<div>\n",
       "<style scoped>\n",
       "    .dataframe tbody tr th:only-of-type {\n",
       "        vertical-align: middle;\n",
       "    }\n",
       "\n",
       "    .dataframe tbody tr th {\n",
       "        vertical-align: top;\n",
       "    }\n",
       "\n",
       "    .dataframe thead th {\n",
       "        text-align: right;\n",
       "    }\n",
       "</style>\n",
       "<table border=\"1\" class=\"dataframe\">\n",
       "  <thead>\n",
       "    <tr style=\"text-align: right;\">\n",
       "      <th></th>\n",
       "      <th>Transaction_ID</th>\n",
       "      <th>Country</th>\n",
       "      <th>Region</th>\n",
       "      <th>Store_Type</th>\n",
       "      <th>Category</th>\n",
       "      <th>Item_ID</th>\n",
       "      <th>Quantity</th>\n",
       "      <th>Price_per_Unit</th>\n",
       "      <th>Total_Sales</th>\n",
       "      <th>Discount_Applied</th>\n",
       "      <th>Day</th>\n",
       "      <th>Time_of_Purchase</th>\n",
       "      <th>Payment_Method</th>\n",
       "      <th>Customer_ID</th>\n",
       "      <th>Loyalty_Card_Used</th>\n",
       "      <th>Employee_ID</th>\n",
       "      <th>Feedback_Score</th>\n",
       "      <th>Return</th>\n",
       "      <th>Weather</th>\n",
       "      <th>Holiday</th>\n",
       "    </tr>\n",
       "  </thead>\n",
       "  <tbody>\n",
       "    <tr>\n",
       "      <th>0</th>\n",
       "      <td>T2867825</td>\n",
       "      <td>UK</td>\n",
       "      <td>South</td>\n",
       "      <td>Supermarket</td>\n",
       "      <td>Fruits</td>\n",
       "      <td>I36836</td>\n",
       "      <td>43.0</td>\n",
       "      <td>344.61</td>\n",
       "      <td>NaN</td>\n",
       "      <td>False</td>\n",
       "      <td>Friday</td>\n",
       "      <td>22:01</td>\n",
       "      <td>Cash</td>\n",
       "      <td>C298340</td>\n",
       "      <td>True</td>\n",
       "      <td>E2761</td>\n",
       "      <td>NaN</td>\n",
       "      <td>NaN</td>\n",
       "      <td>Snowy</td>\n",
       "      <td>False</td>\n",
       "    </tr>\n",
       "    <tr>\n",
       "      <th>1</th>\n",
       "      <td>T1419610</td>\n",
       "      <td>USA</td>\n",
       "      <td>South</td>\n",
       "      <td>Wholesale</td>\n",
       "      <td>Beverages</td>\n",
       "      <td>I85457</td>\n",
       "      <td>76.0</td>\n",
       "      <td>414.14</td>\n",
       "      <td>NaN</td>\n",
       "      <td>NaN</td>\n",
       "      <td>Thursday</td>\n",
       "      <td>2:39</td>\n",
       "      <td>Cash</td>\n",
       "      <td>C467140</td>\n",
       "      <td>False</td>\n",
       "      <td>E6782</td>\n",
       "      <td>4.0</td>\n",
       "      <td>False</td>\n",
       "      <td>Sunny</td>\n",
       "      <td>NaN</td>\n",
       "    </tr>\n",
       "    <tr>\n",
       "      <th>2</th>\n",
       "      <td>T5614226</td>\n",
       "      <td>USA</td>\n",
       "      <td>Central</td>\n",
       "      <td>None</td>\n",
       "      <td>Beverages</td>\n",
       "      <td>I28818</td>\n",
       "      <td>53.0</td>\n",
       "      <td>157.36</td>\n",
       "      <td>NaN</td>\n",
       "      <td>NaN</td>\n",
       "      <td>Sunday</td>\n",
       "      <td>1:02</td>\n",
       "      <td>Debit Card</td>\n",
       "      <td>C203743</td>\n",
       "      <td>False</td>\n",
       "      <td>E9469</td>\n",
       "      <td>NaN</td>\n",
       "      <td>False</td>\n",
       "      <td>NaN</td>\n",
       "      <td>True</td>\n",
       "    </tr>\n",
       "    <tr>\n",
       "      <th>3</th>\n",
       "      <td>T5108603</td>\n",
       "      <td>Canada</td>\n",
       "      <td>East</td>\n",
       "      <td>NaN</td>\n",
       "      <td>Vegetables</td>\n",
       "      <td>I98489</td>\n",
       "      <td>29.0</td>\n",
       "      <td>371.94</td>\n",
       "      <td>NaN</td>\n",
       "      <td>True</td>\n",
       "      <td>Wednesday</td>\n",
       "      <td>18:38</td>\n",
       "      <td>NaN</td>\n",
       "      <td>C785538</td>\n",
       "      <td>False</td>\n",
       "      <td>E6376</td>\n",
       "      <td>3.0</td>\n",
       "      <td>NaN</td>\n",
       "      <td>NaN</td>\n",
       "      <td>True</td>\n",
       "    </tr>\n",
       "    <tr>\n",
       "      <th>4</th>\n",
       "      <td>T4744854</td>\n",
       "      <td>Brazil</td>\n",
       "      <td>West</td>\n",
       "      <td>Grocery Store</td>\n",
       "      <td>Dairy</td>\n",
       "      <td>I22306</td>\n",
       "      <td>13.0</td>\n",
       "      <td>464.09</td>\n",
       "      <td>NaN</td>\n",
       "      <td>False</td>\n",
       "      <td>Saturday</td>\n",
       "      <td>8:23</td>\n",
       "      <td>Mobile Payment</td>\n",
       "      <td>NaN</td>\n",
       "      <td>False</td>\n",
       "      <td>E8737</td>\n",
       "      <td>NaN</td>\n",
       "      <td>False</td>\n",
       "      <td>Sunny</td>\n",
       "      <td>False</td>\n",
       "    </tr>\n",
       "  </tbody>\n",
       "</table>\n",
       "</div>"
      ],
      "text/plain": [
       "  Transaction_ID     Country   Region       Store_Type      Category Item_ID  \\\n",
       "0       T2867825          UK    South    Supermarket          Fruits  I36836   \n",
       "1       T1419610         USA    South        Wholesale     Beverages  I85457   \n",
       "2       T5614226         USA  Central           None       Beverages  I28818   \n",
       "3       T5108603    Canada       East              NaN    Vegetables  I98489   \n",
       "4       T4744854    Brazil       West  Grocery Store           Dairy  I22306   \n",
       "\n",
       "   Quantity  Price_per_Unit  Total_Sales Discount_Applied        Day  \\\n",
       "0      43.0          344.61          NaN            False     Friday   \n",
       "1      76.0          414.14          NaN              NaN   Thursday   \n",
       "2      53.0          157.36          NaN              NaN     Sunday   \n",
       "3      29.0          371.94          NaN             True  Wednesday   \n",
       "4      13.0          464.09          NaN            False   Saturday   \n",
       "\n",
       "  Time_of_Purchase  Payment_Method Customer_ID Loyalty_Card_Used Employee_ID  \\\n",
       "0            22:01            Cash     C298340              True       E2761   \n",
       "1             2:39            Cash     C467140             False       E6782   \n",
       "2             1:02      Debit Card     C203743             False       E9469   \n",
       "3            18:38             NaN     C785538             False       E6376   \n",
       "4             8:23  Mobile Payment         NaN             False       E8737   \n",
       "\n",
       "   Feedback_Score Return Weather Holiday  \n",
       "0             NaN    NaN   Snowy   False  \n",
       "1             4.0  False   Sunny     NaN  \n",
       "2             NaN  False     NaN    True  \n",
       "3             3.0    NaN     NaN    True  \n",
       "4             NaN  False   Sunny   False  "
      ]
     },
     "execution_count": 2,
     "metadata": {},
     "output_type": "execute_result"
    }
   ],
   "source": [
    "# load the dataset\n",
    "df = pd.read_csv(\"raw_superstore_data.csv\")\n",
    "df.head()"
   ]
  },
  {
   "cell_type": "markdown",
   "metadata": {},
   "source": [
    "## Understanding Dataset Structure:"
   ]
  },
  {
   "cell_type": "code",
   "execution_count": 3,
   "metadata": {},
   "outputs": [
    {
     "name": "stdout",
     "output_type": "stream",
     "text": [
      "Dataset Shape: (1048575, 20)\n",
      "No. of rows in a dataset are: 1048575\n",
      "No.of columns in a dataset are: 20\n"
     ]
    }
   ],
   "source": [
    "# display shape(rows and column) of a dataset\n",
    "print(\"Dataset Shape:\", df.shape)\n",
    "# display rows and column of a dataset separately\n",
    "print(\"No. of rows in a dataset are:\", df.shape[0])\n",
    "print(\"No.of columns in a dataset are:\", df.shape[1])"
   ]
  },
  {
   "cell_type": "code",
   "execution_count": 4,
   "metadata": {},
   "outputs": [
    {
     "name": "stdout",
     "output_type": "stream",
     "text": [
      "Column names of a dataset are: Index(['Transaction_ID', 'Country', 'Region', 'Store_Type', 'Category',\n",
      "       'Item_ID', 'Quantity', 'Price_per_Unit', 'Total_Sales',\n",
      "       'Discount_Applied', 'Day', 'Time_of_Purchase', 'Payment_Method',\n",
      "       'Customer_ID', 'Loyalty_Card_Used', 'Employee_ID', 'Feedback_Score',\n",
      "       'Return', 'Weather', 'Holiday'],\n",
      "      dtype='object')\n"
     ]
    }
   ],
   "source": [
    "# display column names\n",
    "print(\"Column names of a dataset are:\", df.columns)"
   ]
  },
  {
   "cell_type": "code",
   "execution_count": 5,
   "metadata": {},
   "outputs": [
    {
     "name": "stdout",
     "output_type": "stream",
     "text": [
      "<class 'pandas.core.frame.DataFrame'>\n",
      "RangeIndex: 1048575 entries, 0 to 1048574\n",
      "Data columns (total 20 columns):\n",
      " #   Column             Non-Null Count    Dtype  \n",
      "---  ------             --------------    -----  \n",
      " 0   Transaction_ID     1048575 non-null  object \n",
      " 1   Country            1048575 non-null  object \n",
      " 2   Region             1048575 non-null  object \n",
      " 3   Store_Type         943973 non-null   object \n",
      " 4   Category           995824 non-null   object \n",
      " 5   Item_ID            1048575 non-null  object \n",
      " 6   Quantity           943814 non-null   float64\n",
      " 7   Price_per_Unit     996363 non-null   float64\n",
      " 8   Total_Sales        0 non-null        float64\n",
      " 9   Discount_Applied   698844 non-null   object \n",
      " 10  Day                1048575 non-null  object \n",
      " 11  Time_of_Purchase   943491 non-null   object \n",
      " 12  Payment_Method     839174 non-null   object \n",
      " 13  Customer_ID        839050 non-null   object \n",
      " 14  Loyalty_Card_Used  699330 non-null   object \n",
      " 15  Employee_ID        943740 non-null   object \n",
      " 16  Feedback_Score     733725 non-null   float64\n",
      " 17  Return             698716 non-null   object \n",
      " 18  Weather            838669 non-null   object \n",
      " 19  Holiday            698739 non-null   object \n",
      "dtypes: float64(4), object(16)\n",
      "memory usage: 160.0+ MB\n"
     ]
    }
   ],
   "source": [
    "df.info()"
   ]
  },
  {
   "cell_type": "code",
   "execution_count": 6,
   "metadata": {},
   "outputs": [
    {
     "name": "stdout",
     "output_type": "stream",
     "text": [
      "Data type of a column name is: Transaction_ID        object\n",
      "Country               object\n",
      "Region                object\n",
      "Store_Type            object\n",
      "Category              object\n",
      "Item_ID               object\n",
      "Quantity             float64\n",
      "Price_per_Unit       float64\n",
      "Total_Sales          float64\n",
      "Discount_Applied      object\n",
      "Day                   object\n",
      "Time_of_Purchase      object\n",
      "Payment_Method        object\n",
      "Customer_ID           object\n",
      "Loyalty_Card_Used     object\n",
      "Employee_ID           object\n",
      "Feedback_Score       float64\n",
      "Return                object\n",
      "Weather               object\n",
      "Holiday               object\n",
      "dtype: object\n"
     ]
    }
   ],
   "source": [
    "# display column names with their datatype\n",
    "print(\"Data type of a column name is:\", df.dtypes)"
   ]
  },
  {
   "cell_type": "code",
   "execution_count": 7,
   "metadata": {},
   "outputs": [
    {
     "data": {
      "text/html": [
       "<div>\n",
       "<style scoped>\n",
       "    .dataframe tbody tr th:only-of-type {\n",
       "        vertical-align: middle;\n",
       "    }\n",
       "\n",
       "    .dataframe tbody tr th {\n",
       "        vertical-align: top;\n",
       "    }\n",
       "\n",
       "    .dataframe thead th {\n",
       "        text-align: right;\n",
       "    }\n",
       "</style>\n",
       "<table border=\"1\" class=\"dataframe\">\n",
       "  <thead>\n",
       "    <tr style=\"text-align: right;\">\n",
       "      <th></th>\n",
       "      <th>Transaction_ID</th>\n",
       "      <th>Country</th>\n",
       "      <th>Region</th>\n",
       "      <th>Store_Type</th>\n",
       "      <th>Category</th>\n",
       "      <th>Item_ID</th>\n",
       "      <th>Quantity</th>\n",
       "      <th>Price_per_Unit</th>\n",
       "      <th>Total_Sales</th>\n",
       "      <th>Discount_Applied</th>\n",
       "      <th>Day</th>\n",
       "      <th>Time_of_Purchase</th>\n",
       "      <th>Payment_Method</th>\n",
       "      <th>Customer_ID</th>\n",
       "      <th>Loyalty_Card_Used</th>\n",
       "      <th>Employee_ID</th>\n",
       "      <th>Feedback_Score</th>\n",
       "      <th>Return</th>\n",
       "      <th>Weather</th>\n",
       "      <th>Holiday</th>\n",
       "    </tr>\n",
       "  </thead>\n",
       "  <tbody>\n",
       "    <tr>\n",
       "      <th>0</th>\n",
       "      <td>T2867825</td>\n",
       "      <td>UK</td>\n",
       "      <td>South</td>\n",
       "      <td>Supermarket</td>\n",
       "      <td>Fruits</td>\n",
       "      <td>I36836</td>\n",
       "      <td>43.0</td>\n",
       "      <td>344.61</td>\n",
       "      <td>NaN</td>\n",
       "      <td>False</td>\n",
       "      <td>Friday</td>\n",
       "      <td>22:01</td>\n",
       "      <td>Cash</td>\n",
       "      <td>C298340</td>\n",
       "      <td>True</td>\n",
       "      <td>E2761</td>\n",
       "      <td>NaN</td>\n",
       "      <td>NaN</td>\n",
       "      <td>Snowy</td>\n",
       "      <td>False</td>\n",
       "    </tr>\n",
       "    <tr>\n",
       "      <th>1</th>\n",
       "      <td>T1419610</td>\n",
       "      <td>USA</td>\n",
       "      <td>South</td>\n",
       "      <td>Wholesale</td>\n",
       "      <td>Beverages</td>\n",
       "      <td>I85457</td>\n",
       "      <td>76.0</td>\n",
       "      <td>414.14</td>\n",
       "      <td>NaN</td>\n",
       "      <td>NaN</td>\n",
       "      <td>Thursday</td>\n",
       "      <td>2:39</td>\n",
       "      <td>Cash</td>\n",
       "      <td>C467140</td>\n",
       "      <td>False</td>\n",
       "      <td>E6782</td>\n",
       "      <td>4.0</td>\n",
       "      <td>False</td>\n",
       "      <td>Sunny</td>\n",
       "      <td>NaN</td>\n",
       "    </tr>\n",
       "    <tr>\n",
       "      <th>2</th>\n",
       "      <td>T5614226</td>\n",
       "      <td>USA</td>\n",
       "      <td>Central</td>\n",
       "      <td>None</td>\n",
       "      <td>Beverages</td>\n",
       "      <td>I28818</td>\n",
       "      <td>53.0</td>\n",
       "      <td>157.36</td>\n",
       "      <td>NaN</td>\n",
       "      <td>NaN</td>\n",
       "      <td>Sunday</td>\n",
       "      <td>1:02</td>\n",
       "      <td>Debit Card</td>\n",
       "      <td>C203743</td>\n",
       "      <td>False</td>\n",
       "      <td>E9469</td>\n",
       "      <td>NaN</td>\n",
       "      <td>False</td>\n",
       "      <td>NaN</td>\n",
       "      <td>True</td>\n",
       "    </tr>\n",
       "    <tr>\n",
       "      <th>3</th>\n",
       "      <td>T5108603</td>\n",
       "      <td>Canada</td>\n",
       "      <td>East</td>\n",
       "      <td>NaN</td>\n",
       "      <td>Vegetables</td>\n",
       "      <td>I98489</td>\n",
       "      <td>29.0</td>\n",
       "      <td>371.94</td>\n",
       "      <td>NaN</td>\n",
       "      <td>True</td>\n",
       "      <td>Wednesday</td>\n",
       "      <td>18:38</td>\n",
       "      <td>NaN</td>\n",
       "      <td>C785538</td>\n",
       "      <td>False</td>\n",
       "      <td>E6376</td>\n",
       "      <td>3.0</td>\n",
       "      <td>NaN</td>\n",
       "      <td>NaN</td>\n",
       "      <td>True</td>\n",
       "    </tr>\n",
       "    <tr>\n",
       "      <th>4</th>\n",
       "      <td>T4744854</td>\n",
       "      <td>Brazil</td>\n",
       "      <td>West</td>\n",
       "      <td>Grocery Store</td>\n",
       "      <td>Dairy</td>\n",
       "      <td>I22306</td>\n",
       "      <td>13.0</td>\n",
       "      <td>464.09</td>\n",
       "      <td>NaN</td>\n",
       "      <td>False</td>\n",
       "      <td>Saturday</td>\n",
       "      <td>8:23</td>\n",
       "      <td>Mobile Payment</td>\n",
       "      <td>NaN</td>\n",
       "      <td>False</td>\n",
       "      <td>E8737</td>\n",
       "      <td>NaN</td>\n",
       "      <td>False</td>\n",
       "      <td>Sunny</td>\n",
       "      <td>False</td>\n",
       "    </tr>\n",
       "  </tbody>\n",
       "</table>\n",
       "</div>"
      ],
      "text/plain": [
       "  Transaction_ID     Country   Region       Store_Type      Category Item_ID  \\\n",
       "0       T2867825          UK    South    Supermarket          Fruits  I36836   \n",
       "1       T1419610         USA    South        Wholesale     Beverages  I85457   \n",
       "2       T5614226         USA  Central           None       Beverages  I28818   \n",
       "3       T5108603    Canada       East              NaN    Vegetables  I98489   \n",
       "4       T4744854    Brazil       West  Grocery Store           Dairy  I22306   \n",
       "\n",
       "   Quantity  Price_per_Unit  Total_Sales Discount_Applied        Day  \\\n",
       "0      43.0          344.61          NaN            False     Friday   \n",
       "1      76.0          414.14          NaN              NaN   Thursday   \n",
       "2      53.0          157.36          NaN              NaN     Sunday   \n",
       "3      29.0          371.94          NaN             True  Wednesday   \n",
       "4      13.0          464.09          NaN            False   Saturday   \n",
       "\n",
       "  Time_of_Purchase  Payment_Method Customer_ID Loyalty_Card_Used Employee_ID  \\\n",
       "0            22:01            Cash     C298340              True       E2761   \n",
       "1             2:39            Cash     C467140             False       E6782   \n",
       "2             1:02      Debit Card     C203743             False       E9469   \n",
       "3            18:38             NaN     C785538             False       E6376   \n",
       "4             8:23  Mobile Payment         NaN             False       E8737   \n",
       "\n",
       "   Feedback_Score Return Weather Holiday  \n",
       "0             NaN    NaN   Snowy   False  \n",
       "1             4.0  False   Sunny     NaN  \n",
       "2             NaN  False     NaN    True  \n",
       "3             3.0    NaN     NaN    True  \n",
       "4             NaN  False   Sunny   False  "
      ]
     },
     "execution_count": 7,
     "metadata": {},
     "output_type": "execute_result"
    }
   ],
   "source": [
    "# preview first few rows of a dataset\n",
    "df.head()"
   ]
  },
  {
   "cell_type": "markdown",
   "metadata": {},
   "source": [
    "# Identify Missing values"
   ]
  },
  {
   "cell_type": "code",
   "execution_count": 8,
   "metadata": {},
   "outputs": [
    {
     "name": "stdout",
     "output_type": "stream",
     "text": [
      "\n",
      "Missing values in each Column:\n",
      " Transaction_ID             0\n",
      "Country                    0\n",
      "Region                     0\n",
      "Store_Type            104602\n",
      "Category               52751\n",
      "Item_ID                    0\n",
      "Quantity              104761\n",
      "Price_per_Unit         52212\n",
      "Total_Sales          1048575\n",
      "Discount_Applied      349731\n",
      "Day                        0\n",
      "Time_of_Purchase      105084\n",
      "Payment_Method        209401\n",
      "Customer_ID           209525\n",
      "Loyalty_Card_Used     349245\n",
      "Employee_ID           104835\n",
      "Feedback_Score        314850\n",
      "Return                349859\n",
      "Weather               209906\n",
      "Holiday               349836\n",
      "dtype: int64\n"
     ]
    }
   ],
   "source": [
    "missing_values = df.isnull().sum()\n",
    "print(\"\\nMissing values in each Column:\\n\", missing_values)"
   ]
  },
  {
   "cell_type": "markdown",
   "metadata": {},
   "source": [
    "# Check and Drop duplicates"
   ]
  },
  {
   "cell_type": "code",
   "execution_count": 9,
   "metadata": {},
   "outputs": [
    {
     "name": "stdout",
     "output_type": "stream",
     "text": [
      "Total rows before duplicates: 1048575\n",
      "\n",
      "Number of Duplicate Rows: 48575\n",
      "Total rows after removing duplicates: 1000000\n"
     ]
    }
   ],
   "source": [
    "# total rows before removing duplicates\n",
    "rows_before = df.shape[0]\n",
    "print(\"Total rows before duplicates:\" , rows_before)\n",
    "# checking total duplicate rows\n",
    "duplicate_rows = df.duplicated().sum()\n",
    "print(\"\\nNumber of Duplicate Rows:\", duplicate_rows)\n",
    "# remove duplicates\n",
    "df = df.drop_duplicates()\n",
    "# total rows after removing duplicates\n",
    "rows_after = df.shape[0]\n",
    "print(\"Total rows after removing duplicates:\", rows_after)"
   ]
  },
  {
   "cell_type": "markdown",
   "metadata": {},
   "source": [
    "# Incorrect or inconsistent data formatting."
   ]
  },
  {
   "cell_type": "code",
   "execution_count": 10,
   "metadata": {},
   "outputs": [
    {
     "data": {
      "text/html": [
       "<div>\n",
       "<style scoped>\n",
       "    .dataframe tbody tr th:only-of-type {\n",
       "        vertical-align: middle;\n",
       "    }\n",
       "\n",
       "    .dataframe tbody tr th {\n",
       "        vertical-align: top;\n",
       "    }\n",
       "\n",
       "    .dataframe thead th {\n",
       "        text-align: right;\n",
       "    }\n",
       "</style>\n",
       "<table border=\"1\" class=\"dataframe\">\n",
       "  <thead>\n",
       "    <tr style=\"text-align: right;\">\n",
       "      <th></th>\n",
       "      <th>Transaction_ID</th>\n",
       "      <th>Country</th>\n",
       "      <th>Region</th>\n",
       "      <th>Store_Type</th>\n",
       "      <th>Category</th>\n",
       "      <th>Item_ID</th>\n",
       "      <th>Quantity</th>\n",
       "      <th>Price_per_Unit</th>\n",
       "      <th>Total_Sales</th>\n",
       "      <th>Discount_Applied</th>\n",
       "      <th>Day</th>\n",
       "      <th>Time_of_Purchase</th>\n",
       "      <th>Payment_Method</th>\n",
       "      <th>Customer_ID</th>\n",
       "      <th>Loyalty_Card_Used</th>\n",
       "      <th>Employee_ID</th>\n",
       "      <th>Feedback_Score</th>\n",
       "      <th>Return</th>\n",
       "      <th>Weather</th>\n",
       "      <th>Holiday</th>\n",
       "    </tr>\n",
       "  </thead>\n",
       "  <tbody>\n",
       "    <tr>\n",
       "      <th>0</th>\n",
       "      <td>T2867825</td>\n",
       "      <td>UK</td>\n",
       "      <td>South</td>\n",
       "      <td>Supermarket</td>\n",
       "      <td>Fruits</td>\n",
       "      <td>I36836</td>\n",
       "      <td>43.0</td>\n",
       "      <td>344.61</td>\n",
       "      <td>NaN</td>\n",
       "      <td>False</td>\n",
       "      <td>Friday</td>\n",
       "      <td>22:01</td>\n",
       "      <td>Cash</td>\n",
       "      <td>C298340</td>\n",
       "      <td>True</td>\n",
       "      <td>E2761</td>\n",
       "      <td>NaN</td>\n",
       "      <td>NaN</td>\n",
       "      <td>Snowy</td>\n",
       "      <td>False</td>\n",
       "    </tr>\n",
       "    <tr>\n",
       "      <th>1</th>\n",
       "      <td>T1419610</td>\n",
       "      <td>USA</td>\n",
       "      <td>South</td>\n",
       "      <td>Wholesale</td>\n",
       "      <td>Beverages</td>\n",
       "      <td>I85457</td>\n",
       "      <td>76.0</td>\n",
       "      <td>414.14</td>\n",
       "      <td>NaN</td>\n",
       "      <td>NaN</td>\n",
       "      <td>Thursday</td>\n",
       "      <td>2:39</td>\n",
       "      <td>Cash</td>\n",
       "      <td>C467140</td>\n",
       "      <td>False</td>\n",
       "      <td>E6782</td>\n",
       "      <td>4.0</td>\n",
       "      <td>False</td>\n",
       "      <td>Sunny</td>\n",
       "      <td>NaN</td>\n",
       "    </tr>\n",
       "    <tr>\n",
       "      <th>2</th>\n",
       "      <td>T5614226</td>\n",
       "      <td>USA</td>\n",
       "      <td>Central</td>\n",
       "      <td>None</td>\n",
       "      <td>Beverages</td>\n",
       "      <td>I28818</td>\n",
       "      <td>53.0</td>\n",
       "      <td>157.36</td>\n",
       "      <td>NaN</td>\n",
       "      <td>NaN</td>\n",
       "      <td>Sunday</td>\n",
       "      <td>1:02</td>\n",
       "      <td>Debit Card</td>\n",
       "      <td>C203743</td>\n",
       "      <td>False</td>\n",
       "      <td>E9469</td>\n",
       "      <td>NaN</td>\n",
       "      <td>False</td>\n",
       "      <td>NaN</td>\n",
       "      <td>True</td>\n",
       "    </tr>\n",
       "    <tr>\n",
       "      <th>3</th>\n",
       "      <td>T5108603</td>\n",
       "      <td>Canada</td>\n",
       "      <td>East</td>\n",
       "      <td>NaN</td>\n",
       "      <td>Vegetables</td>\n",
       "      <td>I98489</td>\n",
       "      <td>29.0</td>\n",
       "      <td>371.94</td>\n",
       "      <td>NaN</td>\n",
       "      <td>True</td>\n",
       "      <td>Wednesday</td>\n",
       "      <td>18:38</td>\n",
       "      <td>NaN</td>\n",
       "      <td>C785538</td>\n",
       "      <td>False</td>\n",
       "      <td>E6376</td>\n",
       "      <td>3.0</td>\n",
       "      <td>NaN</td>\n",
       "      <td>NaN</td>\n",
       "      <td>True</td>\n",
       "    </tr>\n",
       "    <tr>\n",
       "      <th>4</th>\n",
       "      <td>T4744854</td>\n",
       "      <td>Brazil</td>\n",
       "      <td>West</td>\n",
       "      <td>Grocery Store</td>\n",
       "      <td>Dairy</td>\n",
       "      <td>I22306</td>\n",
       "      <td>13.0</td>\n",
       "      <td>464.09</td>\n",
       "      <td>NaN</td>\n",
       "      <td>False</td>\n",
       "      <td>Saturday</td>\n",
       "      <td>8:23</td>\n",
       "      <td>Mobile Payment</td>\n",
       "      <td>NaN</td>\n",
       "      <td>False</td>\n",
       "      <td>E8737</td>\n",
       "      <td>NaN</td>\n",
       "      <td>False</td>\n",
       "      <td>Sunny</td>\n",
       "      <td>False</td>\n",
       "    </tr>\n",
       "  </tbody>\n",
       "</table>\n",
       "</div>"
      ],
      "text/plain": [
       "  Transaction_ID     Country   Region       Store_Type      Category Item_ID  \\\n",
       "0       T2867825          UK    South    Supermarket          Fruits  I36836   \n",
       "1       T1419610         USA    South        Wholesale     Beverages  I85457   \n",
       "2       T5614226         USA  Central           None       Beverages  I28818   \n",
       "3       T5108603    Canada       East              NaN    Vegetables  I98489   \n",
       "4       T4744854    Brazil       West  Grocery Store           Dairy  I22306   \n",
       "\n",
       "   Quantity  Price_per_Unit  Total_Sales Discount_Applied        Day  \\\n",
       "0      43.0          344.61          NaN            False     Friday   \n",
       "1      76.0          414.14          NaN              NaN   Thursday   \n",
       "2      53.0          157.36          NaN              NaN     Sunday   \n",
       "3      29.0          371.94          NaN             True  Wednesday   \n",
       "4      13.0          464.09          NaN            False   Saturday   \n",
       "\n",
       "  Time_of_Purchase  Payment_Method Customer_ID Loyalty_Card_Used Employee_ID  \\\n",
       "0            22:01            Cash     C298340              True       E2761   \n",
       "1             2:39            Cash     C467140             False       E6782   \n",
       "2             1:02      Debit Card     C203743             False       E9469   \n",
       "3            18:38             NaN     C785538             False       E6376   \n",
       "4             8:23  Mobile Payment         NaN             False       E8737   \n",
       "\n",
       "   Feedback_Score Return Weather Holiday  \n",
       "0             NaN    NaN   Snowy   False  \n",
       "1             4.0  False   Sunny     NaN  \n",
       "2             NaN  False     NaN    True  \n",
       "3             3.0    NaN     NaN    True  \n",
       "4             NaN  False   Sunny   False  "
      ]
     },
     "execution_count": 10,
     "metadata": {},
     "output_type": "execute_result"
    }
   ],
   "source": [
    "df.head()"
   ]
  },
  {
   "cell_type": "code",
   "execution_count": 11,
   "metadata": {},
   "outputs": [],
   "source": [
    "# Strip extra spaces in string columns\n",
    "# This removes leading and trailing spaces from text data\n",
    "#string_cols = df.select_dtypes(include=['object']).columns\n",
    "#for col in string_cols:\n",
    "#    df[col] = df[col].str.strip()"
   ]
  },
  {
   "cell_type": "code",
   "execution_count": 12,
   "metadata": {},
   "outputs": [
    {
     "name": "stdout",
     "output_type": "stream",
     "text": [
      "\n",
      "Unique values in Country before formatting:\n"
     ]
    },
    {
     "name": "stdout",
     "output_type": "stream",
     "text": [
      "['UK' 'USA' '  Canada  ' '  Brazil  ' 'China' 'Germany' 'South Africa'\n",
      " 'Japan' 'India' '  Germany  ' '  USA  ' '  UK  ' 'Canada' '  Australia  '\n",
      " 'Australia' '  China  ' '  South Africa  ' 'Brazil' '  Japan  '\n",
      " '  India  ']\n",
      "\n",
      "Unique values in Region before formatting:\n",
      "['South' 'Central' 'East' 'West' 'North']\n",
      "\n",
      "Unique values in Store_Type before formatting:\n",
      "['Supermarket  ' 'Wholesale' 'None  ' nan 'Grocery Store  ' 'Supermarket'\n",
      " 'Hypermarket  ' 'Wholesale  ' 'Grocery Store' 'Hypermarket']\n",
      "\n",
      "Unique values in Category before formatting:\n",
      "['  Fruits' 'Beverages' '  Beverages' '  Vegetables' '  Dairy' 'Fruits'\n",
      " '  Meat' 'Meat' 'Snacks' nan '  Household' '  Electronics' 'Vegetables'\n",
      " 'Household' 'Clothing' '  Clothing' '  Snacks' '  None' 'Dairy'\n",
      " 'Electronics']\n",
      "\n",
      "Unique values in Payment_Method before formatting:\n",
      "['Cash' 'Debit Card' nan 'Mobile Payment' 'Credit Card']\n",
      "\n",
      "Unique values in Day before formatting:\n",
      "['Friday' 'Thursday' 'Sunday' 'Wednesday' 'Saturday' 'Tuesday' 'Monday']\n",
      "\n",
      "Unique values in Weather before formatting:\n",
      "['Snowy' 'Sunny' nan 'Cloudy' 'Rainy']\n"
     ]
    }
   ],
   "source": [
    "# Display unique values in important categorical columns\n",
    "'''\n",
    "Prints the unique values in key columns so you can spot inconsistencies like typos or unexpected entries.\n",
    "'''\n",
    "categorical_cols = ['Country', 'Region', 'Store_Type', 'Category', 'Payment_Method', 'Day', 'Weather']\n",
    "for col in categorical_cols:\n",
    "    print(f\"\\nUnique values in {col} before formatting:\")\n",
    "    print(df[col].unique())"
   ]
  },
  {
   "cell_type": "code",
   "execution_count": 13,
   "metadata": {},
   "outputs": [],
   "source": [
    "'''\n",
    "\"None\" is a string, not a missing value. It doesn’t behave the same way as nan in\n",
    "operations like .isnull() or .fillna().\n",
    "If \"None\" isn’t converted to nan,\n",
    "The missing values will be undercounted because \"None\" won’t be recognized as missing.\n",
    "'''\n",
    "\n",
    "# Replace \"None\" strings with np.nan for standard missing value representation\n",
    "df[\"Store_Type\"] = df[\"Store_Type\"].replace(\"None\", np.nan)\n",
    "df[\"Category\"] = df[\"Category\"].replace(\"None\", np.nan)"
   ]
  },
  {
   "cell_type": "code",
   "execution_count": 14,
   "metadata": {},
   "outputs": [
    {
     "name": "stdout",
     "output_type": "stream",
     "text": [
      "0        1900-01-01 22:01:00\n",
      "1        1900-01-01 02:39:00\n",
      "2        1900-01-01 01:02:00\n",
      "3        1900-01-01 18:38:00\n",
      "4        1900-01-01 08:23:00\n",
      "                 ...        \n",
      "999995   1900-01-01 10:24:00\n",
      "999996   1900-01-01 04:36:00\n",
      "999997   1900-01-01 01:19:00\n",
      "999998   1900-01-01 20:29:00\n",
      "999999   1900-01-01 08:32:00\n",
      "Name: Time_of_Purchase, Length: 1000000, dtype: datetime64[ns]\n"
     ]
    }
   ],
   "source": [
    "# Convert 'Time_of_Purchase' to proper time format\n",
    "# If the format is incorrect, it will turn into NaT (Not a Time)\n",
    "df['Time_of_Purchase'] = pd.to_datetime(df['Time_of_Purchase'], format='%H:%M', errors='coerce')\n",
    "print(df['Time_of_Purchase'])"
   ]
  },
  {
   "cell_type": "code",
   "execution_count": 15,
   "metadata": {},
   "outputs": [
    {
     "name": "stdout",
     "output_type": "stream",
     "text": [
      "\n",
      "Preview of Data after Formatting:\n",
      "  Transaction_ID     Country   Region       Store_Type      Category Item_ID  \\\n",
      "0       T2867825          UK    South    Supermarket          Fruits  I36836   \n",
      "1       T1419610         USA    South        Wholesale     Beverages  I85457   \n",
      "2       T5614226         USA  Central           None       Beverages  I28818   \n",
      "3       T5108603    Canada       East              NaN    Vegetables  I98489   \n",
      "4       T4744854    Brazil       West  Grocery Store           Dairy  I22306   \n",
      "\n",
      "   Quantity  Price_per_Unit  Total_Sales Discount_Applied        Day  \\\n",
      "0      43.0          344.61          NaN            False     Friday   \n",
      "1      76.0          414.14          NaN              NaN   Thursday   \n",
      "2      53.0          157.36          NaN              NaN     Sunday   \n",
      "3      29.0          371.94          NaN             True  Wednesday   \n",
      "4      13.0          464.09          NaN            False   Saturday   \n",
      "\n",
      "     Time_of_Purchase  Payment_Method Customer_ID Loyalty_Card_Used  \\\n",
      "0 1900-01-01 22:01:00            Cash     C298340              True   \n",
      "1 1900-01-01 02:39:00            Cash     C467140             False   \n",
      "2 1900-01-01 01:02:00      Debit Card     C203743             False   \n",
      "3 1900-01-01 18:38:00             NaN     C785538             False   \n",
      "4 1900-01-01 08:23:00  Mobile Payment         NaN             False   \n",
      "\n",
      "  Employee_ID  Feedback_Score Return Weather Holiday  \n",
      "0       E2761             NaN    NaN   Snowy   False  \n",
      "1       E6782             4.0  False   Sunny     NaN  \n",
      "2       E9469             NaN  False     NaN    True  \n",
      "3       E6376             3.0    NaN     NaN    True  \n",
      "4       E8737             NaN  False   Sunny   False  \n"
     ]
    }
   ],
   "source": [
    "# Display the first few rows to verify changes\n",
    "print(\"\\nPreview of Data after Formatting:\")\n",
    "print(df.head())"
   ]
  },
  {
   "cell_type": "markdown",
   "metadata": {},
   "source": [
    "# Outliers or unrealistic values."
   ]
  },
  {
   "cell_type": "markdown",
   "metadata": {},
   "source": [
    "We’ll use simple descriptive statistics to detect any unusual values (like negative quantities or extreme prices."
   ]
  },
  {
   "cell_type": "code",
   "execution_count": 16,
   "metadata": {},
   "outputs": [
    {
     "data": {
      "text/html": [
       "<div>\n",
       "<style scoped>\n",
       "    .dataframe tbody tr th:only-of-type {\n",
       "        vertical-align: middle;\n",
       "    }\n",
       "\n",
       "    .dataframe tbody tr th {\n",
       "        vertical-align: top;\n",
       "    }\n",
       "\n",
       "    .dataframe thead th {\n",
       "        text-align: right;\n",
       "    }\n",
       "</style>\n",
       "<table border=\"1\" class=\"dataframe\">\n",
       "  <thead>\n",
       "    <tr style=\"text-align: right;\">\n",
       "      <th></th>\n",
       "      <th>Transaction_ID</th>\n",
       "      <th>Country</th>\n",
       "      <th>Region</th>\n",
       "      <th>Store_Type</th>\n",
       "      <th>Category</th>\n",
       "      <th>Item_ID</th>\n",
       "      <th>Quantity</th>\n",
       "      <th>Price_per_Unit</th>\n",
       "      <th>Total_Sales</th>\n",
       "      <th>Discount_Applied</th>\n",
       "      <th>Day</th>\n",
       "      <th>Time_of_Purchase</th>\n",
       "      <th>Payment_Method</th>\n",
       "      <th>Customer_ID</th>\n",
       "      <th>Loyalty_Card_Used</th>\n",
       "      <th>Employee_ID</th>\n",
       "      <th>Feedback_Score</th>\n",
       "      <th>Return</th>\n",
       "      <th>Weather</th>\n",
       "      <th>Holiday</th>\n",
       "    </tr>\n",
       "  </thead>\n",
       "  <tbody>\n",
       "    <tr>\n",
       "      <th>0</th>\n",
       "      <td>T2867825</td>\n",
       "      <td>UK</td>\n",
       "      <td>South</td>\n",
       "      <td>Supermarket</td>\n",
       "      <td>Fruits</td>\n",
       "      <td>I36836</td>\n",
       "      <td>43.0</td>\n",
       "      <td>344.61</td>\n",
       "      <td>NaN</td>\n",
       "      <td>False</td>\n",
       "      <td>Friday</td>\n",
       "      <td>1900-01-01 22:01:00</td>\n",
       "      <td>Cash</td>\n",
       "      <td>C298340</td>\n",
       "      <td>True</td>\n",
       "      <td>E2761</td>\n",
       "      <td>NaN</td>\n",
       "      <td>NaN</td>\n",
       "      <td>Snowy</td>\n",
       "      <td>False</td>\n",
       "    </tr>\n",
       "    <tr>\n",
       "      <th>1</th>\n",
       "      <td>T1419610</td>\n",
       "      <td>USA</td>\n",
       "      <td>South</td>\n",
       "      <td>Wholesale</td>\n",
       "      <td>Beverages</td>\n",
       "      <td>I85457</td>\n",
       "      <td>76.0</td>\n",
       "      <td>414.14</td>\n",
       "      <td>NaN</td>\n",
       "      <td>NaN</td>\n",
       "      <td>Thursday</td>\n",
       "      <td>1900-01-01 02:39:00</td>\n",
       "      <td>Cash</td>\n",
       "      <td>C467140</td>\n",
       "      <td>False</td>\n",
       "      <td>E6782</td>\n",
       "      <td>4.0</td>\n",
       "      <td>False</td>\n",
       "      <td>Sunny</td>\n",
       "      <td>NaN</td>\n",
       "    </tr>\n",
       "    <tr>\n",
       "      <th>2</th>\n",
       "      <td>T5614226</td>\n",
       "      <td>USA</td>\n",
       "      <td>Central</td>\n",
       "      <td>None</td>\n",
       "      <td>Beverages</td>\n",
       "      <td>I28818</td>\n",
       "      <td>53.0</td>\n",
       "      <td>157.36</td>\n",
       "      <td>NaN</td>\n",
       "      <td>NaN</td>\n",
       "      <td>Sunday</td>\n",
       "      <td>1900-01-01 01:02:00</td>\n",
       "      <td>Debit Card</td>\n",
       "      <td>C203743</td>\n",
       "      <td>False</td>\n",
       "      <td>E9469</td>\n",
       "      <td>NaN</td>\n",
       "      <td>False</td>\n",
       "      <td>NaN</td>\n",
       "      <td>True</td>\n",
       "    </tr>\n",
       "    <tr>\n",
       "      <th>3</th>\n",
       "      <td>T5108603</td>\n",
       "      <td>Canada</td>\n",
       "      <td>East</td>\n",
       "      <td>NaN</td>\n",
       "      <td>Vegetables</td>\n",
       "      <td>I98489</td>\n",
       "      <td>29.0</td>\n",
       "      <td>371.94</td>\n",
       "      <td>NaN</td>\n",
       "      <td>True</td>\n",
       "      <td>Wednesday</td>\n",
       "      <td>1900-01-01 18:38:00</td>\n",
       "      <td>NaN</td>\n",
       "      <td>C785538</td>\n",
       "      <td>False</td>\n",
       "      <td>E6376</td>\n",
       "      <td>3.0</td>\n",
       "      <td>NaN</td>\n",
       "      <td>NaN</td>\n",
       "      <td>True</td>\n",
       "    </tr>\n",
       "    <tr>\n",
       "      <th>4</th>\n",
       "      <td>T4744854</td>\n",
       "      <td>Brazil</td>\n",
       "      <td>West</td>\n",
       "      <td>Grocery Store</td>\n",
       "      <td>Dairy</td>\n",
       "      <td>I22306</td>\n",
       "      <td>13.0</td>\n",
       "      <td>464.09</td>\n",
       "      <td>NaN</td>\n",
       "      <td>False</td>\n",
       "      <td>Saturday</td>\n",
       "      <td>1900-01-01 08:23:00</td>\n",
       "      <td>Mobile Payment</td>\n",
       "      <td>NaN</td>\n",
       "      <td>False</td>\n",
       "      <td>E8737</td>\n",
       "      <td>NaN</td>\n",
       "      <td>False</td>\n",
       "      <td>Sunny</td>\n",
       "      <td>False</td>\n",
       "    </tr>\n",
       "  </tbody>\n",
       "</table>\n",
       "</div>"
      ],
      "text/plain": [
       "  Transaction_ID     Country   Region       Store_Type      Category Item_ID  \\\n",
       "0       T2867825          UK    South    Supermarket          Fruits  I36836   \n",
       "1       T1419610         USA    South        Wholesale     Beverages  I85457   \n",
       "2       T5614226         USA  Central           None       Beverages  I28818   \n",
       "3       T5108603    Canada       East              NaN    Vegetables  I98489   \n",
       "4       T4744854    Brazil       West  Grocery Store           Dairy  I22306   \n",
       "\n",
       "   Quantity  Price_per_Unit  Total_Sales Discount_Applied        Day  \\\n",
       "0      43.0          344.61          NaN            False     Friday   \n",
       "1      76.0          414.14          NaN              NaN   Thursday   \n",
       "2      53.0          157.36          NaN              NaN     Sunday   \n",
       "3      29.0          371.94          NaN             True  Wednesday   \n",
       "4      13.0          464.09          NaN            False   Saturday   \n",
       "\n",
       "     Time_of_Purchase  Payment_Method Customer_ID Loyalty_Card_Used  \\\n",
       "0 1900-01-01 22:01:00            Cash     C298340              True   \n",
       "1 1900-01-01 02:39:00            Cash     C467140             False   \n",
       "2 1900-01-01 01:02:00      Debit Card     C203743             False   \n",
       "3 1900-01-01 18:38:00             NaN     C785538             False   \n",
       "4 1900-01-01 08:23:00  Mobile Payment         NaN             False   \n",
       "\n",
       "  Employee_ID  Feedback_Score Return Weather Holiday  \n",
       "0       E2761             NaN    NaN   Snowy   False  \n",
       "1       E6782             4.0  False   Sunny     NaN  \n",
       "2       E9469             NaN  False     NaN    True  \n",
       "3       E6376             3.0    NaN     NaN    True  \n",
       "4       E8737             NaN  False   Sunny   False  "
      ]
     },
     "execution_count": 16,
     "metadata": {},
     "output_type": "execute_result"
    }
   ],
   "source": [
    "df.head()"
   ]
  },
  {
   "cell_type": "code",
   "execution_count": 17,
   "metadata": {},
   "outputs": [
    {
     "data": {
      "text/html": [
       "<div>\n",
       "<style scoped>\n",
       "    .dataframe tbody tr th:only-of-type {\n",
       "        vertical-align: middle;\n",
       "    }\n",
       "\n",
       "    .dataframe tbody tr th {\n",
       "        vertical-align: top;\n",
       "    }\n",
       "\n",
       "    .dataframe thead th {\n",
       "        text-align: right;\n",
       "    }\n",
       "</style>\n",
       "<table border=\"1\" class=\"dataframe\">\n",
       "  <thead>\n",
       "    <tr style=\"text-align: right;\">\n",
       "      <th></th>\n",
       "      <th>Quantity</th>\n",
       "      <th>Price_per_Unit</th>\n",
       "      <th>Total_Sales</th>\n",
       "      <th>Time_of_Purchase</th>\n",
       "      <th>Feedback_Score</th>\n",
       "    </tr>\n",
       "  </thead>\n",
       "  <tbody>\n",
       "    <tr>\n",
       "      <th>count</th>\n",
       "      <td>900002.000000</td>\n",
       "      <td>950200.000000</td>\n",
       "      <td>0.0</td>\n",
       "      <td>899725</td>\n",
       "      <td>699761.000000</td>\n",
       "    </tr>\n",
       "    <tr>\n",
       "      <th>mean</th>\n",
       "      <td>50.496852</td>\n",
       "      <td>250.293542</td>\n",
       "      <td>NaN</td>\n",
       "      <td>1900-01-01 11:59:27.478863616</td>\n",
       "      <td>3.000252</td>\n",
       "    </tr>\n",
       "    <tr>\n",
       "      <th>min</th>\n",
       "      <td>1.000000</td>\n",
       "      <td>1.000000</td>\n",
       "      <td>NaN</td>\n",
       "      <td>1900-01-01 00:00:00</td>\n",
       "      <td>1.000000</td>\n",
       "    </tr>\n",
       "    <tr>\n",
       "      <th>25%</th>\n",
       "      <td>25.000000</td>\n",
       "      <td>125.610000</td>\n",
       "      <td>NaN</td>\n",
       "      <td>1900-01-01 06:00:00</td>\n",
       "      <td>2.000000</td>\n",
       "    </tr>\n",
       "    <tr>\n",
       "      <th>50%</th>\n",
       "      <td>50.000000</td>\n",
       "      <td>249.880000</td>\n",
       "      <td>NaN</td>\n",
       "      <td>1900-01-01 11:59:00</td>\n",
       "      <td>3.000000</td>\n",
       "    </tr>\n",
       "    <tr>\n",
       "      <th>75%</th>\n",
       "      <td>75.000000</td>\n",
       "      <td>375.160000</td>\n",
       "      <td>NaN</td>\n",
       "      <td>1900-01-01 18:00:00</td>\n",
       "      <td>4.000000</td>\n",
       "    </tr>\n",
       "    <tr>\n",
       "      <th>max</th>\n",
       "      <td>100.000000</td>\n",
       "      <td>500.000000</td>\n",
       "      <td>NaN</td>\n",
       "      <td>1900-01-01 23:59:00</td>\n",
       "      <td>5.000000</td>\n",
       "    </tr>\n",
       "    <tr>\n",
       "      <th>std</th>\n",
       "      <td>28.872398</td>\n",
       "      <td>144.062338</td>\n",
       "      <td>NaN</td>\n",
       "      <td>NaN</td>\n",
       "      <td>1.414741</td>\n",
       "    </tr>\n",
       "  </tbody>\n",
       "</table>\n",
       "</div>"
      ],
      "text/plain": [
       "            Quantity  Price_per_Unit  Total_Sales  \\\n",
       "count  900002.000000   950200.000000          0.0   \n",
       "mean       50.496852      250.293542          NaN   \n",
       "min         1.000000        1.000000          NaN   \n",
       "25%        25.000000      125.610000          NaN   \n",
       "50%        50.000000      249.880000          NaN   \n",
       "75%        75.000000      375.160000          NaN   \n",
       "max       100.000000      500.000000          NaN   \n",
       "std        28.872398      144.062338          NaN   \n",
       "\n",
       "                    Time_of_Purchase  Feedback_Score  \n",
       "count                         899725   699761.000000  \n",
       "mean   1900-01-01 11:59:27.478863616        3.000252  \n",
       "min              1900-01-01 00:00:00        1.000000  \n",
       "25%              1900-01-01 06:00:00        2.000000  \n",
       "50%              1900-01-01 11:59:00        3.000000  \n",
       "75%              1900-01-01 18:00:00        4.000000  \n",
       "max              1900-01-01 23:59:00        5.000000  \n",
       "std                              NaN        1.414741  "
      ]
     },
     "execution_count": 17,
     "metadata": {},
     "output_type": "execute_result"
    }
   ],
   "source": [
    "df.describe()"
   ]
  },
  {
   "cell_type": "code",
   "execution_count": 18,
   "metadata": {},
   "outputs": [
    {
     "name": "stdout",
     "output_type": "stream",
     "text": [
      "\n",
      "Summary statistics for numerical columns:\n",
      "            Quantity  Price_per_Unit  Feedback_Score\n",
      "count  900002.000000   950200.000000   699761.000000\n",
      "mean       50.496852      250.293542        3.000252\n",
      "std        28.872398      144.062338        1.414741\n",
      "min         1.000000        1.000000        1.000000\n",
      "25%        25.000000      125.610000        2.000000\n",
      "50%        50.000000      249.880000        3.000000\n",
      "75%        75.000000      375.160000        4.000000\n",
      "max       100.000000      500.000000        5.000000\n",
      "\n",
      "Number of rows with invalid (<= 0) Quantity: 0\n",
      "Number of rows with Price_per_Unit > 1000: 0\n",
      "Number of rows with invalid Feedback_Score: 0\n"
     ]
    }
   ],
   "source": [
    "# Display summary statistics for numerical columns\n",
    "print(\"\\nSummary statistics for numerical columns:\")\n",
    "print(df[['Quantity', 'Price_per_Unit', 'Feedback_Score']].describe())\n",
    "\n",
    "# Check for specific issues manually\n",
    "# Negative or zero quantities (unrealistic for sales)\n",
    "invalid_quantity = df[df['Quantity'] <= 0]\n",
    "print(f\"\\nNumber of rows with invalid (<= 0) Quantity: {len(invalid_quantity)}\")\n",
    "\n",
    "# Extremely high prices per unit\n",
    "high_price = df[df['Price_per_Unit'] > 1000]\n",
    "print(f\"Number of rows with Price_per_Unit > 1000: {len(high_price)}\")\n",
    "\n",
    "# Feedback scores outside the range 1-5\n",
    "invalid_feedback = df[(df['Feedback_Score'] < 1) | (df['Feedback_Score'] > 5)]\n",
    "print(f\"Number of rows with invalid Feedback_Score: {len(invalid_feedback)}\")\n"
   ]
  },
  {
   "cell_type": "markdown",
   "metadata": {},
   "source": [
    "# Handling Missing values"
   ]
  },
  {
   "cell_type": "code",
   "execution_count": 19,
   "metadata": {},
   "outputs": [],
   "source": [
    "# Impute categorical columns with \"Unknown\"\n",
    "categorical_cols = ['Store_Type', 'Category', 'Payment_Method', 'Weather', 'Employee_ID', 'Customer_ID']\n",
    "for col in categorical_cols:\n",
    "    df[col] = df[col].fillna(\"Unknown\")  # Replacing missing values with \"Unknown\""
   ]
  },
  {
   "cell_type": "code",
   "execution_count": 20,
   "metadata": {},
   "outputs": [
    {
     "name": "stderr",
     "output_type": "stream",
     "text": [
      "C:\\Users\\ADV\\AppData\\Local\\Temp\\ipykernel_4100\\2890528278.py:2: FutureWarning: Downcasting object dtype arrays on .fillna, .ffill, .bfill is deprecated and will change in a future version. Call result.infer_objects(copy=False) instead. To opt-in to the future behavior, set `pd.set_option('future.no_silent_downcasting', True)`\n",
      "  df['Discount_Applied'] = df['Discount_Applied'].fillna(False)  # Assume no discount if missing\n",
      "C:\\Users\\ADV\\AppData\\Local\\Temp\\ipykernel_4100\\2890528278.py:3: FutureWarning: Downcasting object dtype arrays on .fillna, .ffill, .bfill is deprecated and will change in a future version. Call result.infer_objects(copy=False) instead. To opt-in to the future behavior, set `pd.set_option('future.no_silent_downcasting', True)`\n",
      "  df['Loyalty_Card_Used'] = df['Loyalty_Card_Used'].fillna(False)  # Assume no loyalty card if missing\n",
      "C:\\Users\\ADV\\AppData\\Local\\Temp\\ipykernel_4100\\2890528278.py:4: FutureWarning: Downcasting object dtype arrays on .fillna, .ffill, .bfill is deprecated and will change in a future version. Call result.infer_objects(copy=False) instead. To opt-in to the future behavior, set `pd.set_option('future.no_silent_downcasting', True)`\n",
      "  df['Return'] = df['Return'].fillna(False)  # Assume no return if missing\n",
      "C:\\Users\\ADV\\AppData\\Local\\Temp\\ipykernel_4100\\2890528278.py:5: FutureWarning: Downcasting object dtype arrays on .fillna, .ffill, .bfill is deprecated and will change in a future version. Call result.infer_objects(copy=False) instead. To opt-in to the future behavior, set `pd.set_option('future.no_silent_downcasting', True)`\n",
      "  df['Holiday'] = df['Holiday'].fillna(False)  # Assume not a holiday if missing\n"
     ]
    }
   ],
   "source": [
    "# Logical imputations for Boolean-like columns\n",
    "df['Discount_Applied'] = df['Discount_Applied'].fillna(False)  # Assume no discount if missing\n",
    "df['Loyalty_Card_Used'] = df['Loyalty_Card_Used'].fillna(False)  # Assume no loyalty card if missing\n",
    "df['Return'] = df['Return'].fillna(False)  # Assume no return if missing\n",
    "df['Holiday'] = df['Holiday'].fillna(False)  # Assume not a holiday if missing"
   ]
  },
  {
   "cell_type": "code",
   "execution_count": 21,
   "metadata": {},
   "outputs": [],
   "source": [
    "# Impute numerical columns with median\n",
    "numerical_cols = ['Quantity', 'Price_per_Unit', 'Feedback_Score']\n",
    "for col in numerical_cols:\n",
    "    df[col] = df[col].fillna(df[col].median())  # Using median to avoid outlier bias\n"
   ]
  },
  {
   "cell_type": "code",
   "execution_count": 22,
   "metadata": {},
   "outputs": [],
   "source": [
    "# Drop Time_of_Purchase if it's not critical\n",
    "df = df.drop(columns=['Time_of_Purchase'])  # Removing columns that are irrelevant or hard to fix"
   ]
  },
  {
   "cell_type": "code",
   "execution_count": 23,
   "metadata": {},
   "outputs": [],
   "source": [
    "# Recalculate Total_Sales if Quantity and Price_per_Unit are present\n",
    "df['Total_Sales'] = df['Quantity'] * df['Price_per_Unit']"
   ]
  },
  {
   "cell_type": "code",
   "execution_count": 24,
   "metadata": {},
   "outputs": [
    {
     "data": {
      "text/plain": [
       "Transaction_ID       0\n",
       "Country              0\n",
       "Region               0\n",
       "Store_Type           0\n",
       "Category             0\n",
       "Item_ID              0\n",
       "Quantity             0\n",
       "Price_per_Unit       0\n",
       "Total_Sales          0\n",
       "Discount_Applied     0\n",
       "Day                  0\n",
       "Payment_Method       0\n",
       "Customer_ID          0\n",
       "Loyalty_Card_Used    0\n",
       "Employee_ID          0\n",
       "Feedback_Score       0\n",
       "Return               0\n",
       "Weather              0\n",
       "Holiday              0\n",
       "dtype: int64"
      ]
     },
     "execution_count": 24,
     "metadata": {},
     "output_type": "execute_result"
    }
   ],
   "source": [
    "# verify the final dataset\n",
    "df.isnull().sum()"
   ]
  },
  {
   "cell_type": "code",
   "execution_count": 25,
   "metadata": {},
   "outputs": [],
   "source": [
    "# save the cleaned dataset\n",
    "cleaned_file = \"cleaned_superstore_data.csv\"\n",
    "df.to_csv(\"cleaned_superstore_data.csv\", index = False)"
   ]
  },
  {
   "cell_type": "markdown",
   "metadata": {},
   "source": [
    "# Feature Engineering:\n",
    "- Created new columns (features) that add value to dataset."
   ]
  },
  {
   "cell_type": "code",
   "execution_count": 26,
   "metadata": {},
   "outputs": [
    {
     "data": {
      "text/html": [
       "<div>\n",
       "<style scoped>\n",
       "    .dataframe tbody tr th:only-of-type {\n",
       "        vertical-align: middle;\n",
       "    }\n",
       "\n",
       "    .dataframe tbody tr th {\n",
       "        vertical-align: top;\n",
       "    }\n",
       "\n",
       "    .dataframe thead th {\n",
       "        text-align: right;\n",
       "    }\n",
       "</style>\n",
       "<table border=\"1\" class=\"dataframe\">\n",
       "  <thead>\n",
       "    <tr style=\"text-align: right;\">\n",
       "      <th></th>\n",
       "      <th>Transaction_ID</th>\n",
       "      <th>Country</th>\n",
       "      <th>Region</th>\n",
       "      <th>Store_Type</th>\n",
       "      <th>Category</th>\n",
       "      <th>Item_ID</th>\n",
       "      <th>Quantity</th>\n",
       "      <th>Price_per_Unit</th>\n",
       "      <th>Total_Sales</th>\n",
       "      <th>Discount_Applied</th>\n",
       "      <th>Day</th>\n",
       "      <th>Payment_Method</th>\n",
       "      <th>Customer_ID</th>\n",
       "      <th>Loyalty_Card_Used</th>\n",
       "      <th>Employee_ID</th>\n",
       "      <th>Feedback_Score</th>\n",
       "      <th>Return</th>\n",
       "      <th>Weather</th>\n",
       "      <th>Holiday</th>\n",
       "    </tr>\n",
       "  </thead>\n",
       "  <tbody>\n",
       "    <tr>\n",
       "      <th>0</th>\n",
       "      <td>T2867825</td>\n",
       "      <td>UK</td>\n",
       "      <td>South</td>\n",
       "      <td>Supermarket</td>\n",
       "      <td>Fruits</td>\n",
       "      <td>I36836</td>\n",
       "      <td>43.0</td>\n",
       "      <td>344.61</td>\n",
       "      <td>14818.23</td>\n",
       "      <td>False</td>\n",
       "      <td>Friday</td>\n",
       "      <td>Cash</td>\n",
       "      <td>C298340</td>\n",
       "      <td>True</td>\n",
       "      <td>E2761</td>\n",
       "      <td>3.0</td>\n",
       "      <td>False</td>\n",
       "      <td>Snowy</td>\n",
       "      <td>False</td>\n",
       "    </tr>\n",
       "    <tr>\n",
       "      <th>1</th>\n",
       "      <td>T1419610</td>\n",
       "      <td>USA</td>\n",
       "      <td>South</td>\n",
       "      <td>Wholesale</td>\n",
       "      <td>Beverages</td>\n",
       "      <td>I85457</td>\n",
       "      <td>76.0</td>\n",
       "      <td>414.14</td>\n",
       "      <td>31474.64</td>\n",
       "      <td>False</td>\n",
       "      <td>Thursday</td>\n",
       "      <td>Cash</td>\n",
       "      <td>C467140</td>\n",
       "      <td>False</td>\n",
       "      <td>E6782</td>\n",
       "      <td>4.0</td>\n",
       "      <td>False</td>\n",
       "      <td>Sunny</td>\n",
       "      <td>False</td>\n",
       "    </tr>\n",
       "    <tr>\n",
       "      <th>2</th>\n",
       "      <td>T5614226</td>\n",
       "      <td>USA</td>\n",
       "      <td>Central</td>\n",
       "      <td>None</td>\n",
       "      <td>Beverages</td>\n",
       "      <td>I28818</td>\n",
       "      <td>53.0</td>\n",
       "      <td>157.36</td>\n",
       "      <td>8340.08</td>\n",
       "      <td>False</td>\n",
       "      <td>Sunday</td>\n",
       "      <td>Debit Card</td>\n",
       "      <td>C203743</td>\n",
       "      <td>False</td>\n",
       "      <td>E9469</td>\n",
       "      <td>3.0</td>\n",
       "      <td>False</td>\n",
       "      <td>Unknown</td>\n",
       "      <td>True</td>\n",
       "    </tr>\n",
       "    <tr>\n",
       "      <th>3</th>\n",
       "      <td>T5108603</td>\n",
       "      <td>Canada</td>\n",
       "      <td>East</td>\n",
       "      <td>Unknown</td>\n",
       "      <td>Vegetables</td>\n",
       "      <td>I98489</td>\n",
       "      <td>29.0</td>\n",
       "      <td>371.94</td>\n",
       "      <td>10786.26</td>\n",
       "      <td>True</td>\n",
       "      <td>Wednesday</td>\n",
       "      <td>Unknown</td>\n",
       "      <td>C785538</td>\n",
       "      <td>False</td>\n",
       "      <td>E6376</td>\n",
       "      <td>3.0</td>\n",
       "      <td>False</td>\n",
       "      <td>Unknown</td>\n",
       "      <td>True</td>\n",
       "    </tr>\n",
       "    <tr>\n",
       "      <th>4</th>\n",
       "      <td>T4744854</td>\n",
       "      <td>Brazil</td>\n",
       "      <td>West</td>\n",
       "      <td>Grocery Store</td>\n",
       "      <td>Dairy</td>\n",
       "      <td>I22306</td>\n",
       "      <td>13.0</td>\n",
       "      <td>464.09</td>\n",
       "      <td>6033.17</td>\n",
       "      <td>False</td>\n",
       "      <td>Saturday</td>\n",
       "      <td>Mobile Payment</td>\n",
       "      <td>Unknown</td>\n",
       "      <td>False</td>\n",
       "      <td>E8737</td>\n",
       "      <td>3.0</td>\n",
       "      <td>False</td>\n",
       "      <td>Sunny</td>\n",
       "      <td>False</td>\n",
       "    </tr>\n",
       "  </tbody>\n",
       "</table>\n",
       "</div>"
      ],
      "text/plain": [
       "  Transaction_ID     Country   Region       Store_Type      Category Item_ID  \\\n",
       "0       T2867825          UK    South    Supermarket          Fruits  I36836   \n",
       "1       T1419610         USA    South        Wholesale     Beverages  I85457   \n",
       "2       T5614226         USA  Central           None       Beverages  I28818   \n",
       "3       T5108603    Canada       East          Unknown    Vegetables  I98489   \n",
       "4       T4744854    Brazil       West  Grocery Store           Dairy  I22306   \n",
       "\n",
       "   Quantity  Price_per_Unit  Total_Sales  Discount_Applied        Day  \\\n",
       "0      43.0          344.61     14818.23             False     Friday   \n",
       "1      76.0          414.14     31474.64             False   Thursday   \n",
       "2      53.0          157.36      8340.08             False     Sunday   \n",
       "3      29.0          371.94     10786.26              True  Wednesday   \n",
       "4      13.0          464.09      6033.17             False   Saturday   \n",
       "\n",
       "   Payment_Method Customer_ID  Loyalty_Card_Used Employee_ID  Feedback_Score  \\\n",
       "0            Cash     C298340               True       E2761             3.0   \n",
       "1            Cash     C467140              False       E6782             4.0   \n",
       "2      Debit Card     C203743              False       E9469             3.0   \n",
       "3         Unknown     C785538              False       E6376             3.0   \n",
       "4  Mobile Payment     Unknown              False       E8737             3.0   \n",
       "\n",
       "   Return  Weather  Holiday  \n",
       "0   False    Snowy    False  \n",
       "1   False    Sunny    False  \n",
       "2   False  Unknown     True  \n",
       "3   False  Unknown     True  \n",
       "4   False    Sunny    False  "
      ]
     },
     "execution_count": 26,
     "metadata": {},
     "output_type": "execute_result"
    }
   ],
   "source": [
    "df.head()"
   ]
  },
  {
   "cell_type": "code",
   "execution_count": 27,
   "metadata": {},
   "outputs": [
    {
     "data": {
      "text/plain": [
       "'\\nThe output of Discounted_Sale shows:\\n\\n0.00 for transactions where Discount_Applied is False (no discount applied).\\nNon-zero values (e.g., 10786.26, 17511.66) for transactions\\nwhere a discount was applied.'"
      ]
     },
     "execution_count": 27,
     "metadata": {},
     "output_type": "execute_result"
    }
   ],
   "source": [
    "'''\n",
    "# Create a Discounted_Sale Feature\n",
    "If Discount_Applied is True, the sale likely had a lower price.\n",
    "This column can highlight the impact of discounts:\n",
    "'''\n",
    "# Create a Discounted_Sale column\n",
    "df['Discounted_Sale'] = df['Discount_Applied'] * df['Total_Sales']\n",
    "df['Discounted_Sale']\n",
    "\n",
    "'''\n",
    "The output of Discounted_Sale shows:\n",
    "\n",
    "0.00 for transactions where Discount_Applied is False (no discount applied).\n",
    "Non-zero values (e.g., 10786.26, 17511.66) for transactions\n",
    "where a discount was applied.'''"
   ]
  },
  {
   "cell_type": "code",
   "execution_count": 28,
   "metadata": {},
   "outputs": [
    {
     "name": "stdout",
     "output_type": "stream",
     "text": [
      "Total Discounted Sales: 4203889620.4199996\n",
      "Percentage of Sales from Discounts: 33.31%\n"
     ]
    }
   ],
   "source": [
    "'''Discounted Sales Contribution: By summing Discounted_Sale, we calculated \n",
    "the total revenue from discounted transactions:'''\n",
    "total_discounted_sales = df['Discounted_Sale'].sum()\n",
    "print(f\"Total Discounted Sales: {total_discounted_sales}\")\n",
    "\n",
    "'''\n",
    "Percentage of Discounted Sales: Compare Discounted_Sale against total sales to see how much of the revenue comes from discounts:'''\n",
    "total_sales = df['Total_Sales'].sum()\n",
    "percentage_discounted = (total_discounted_sales / total_sales) * 100\n",
    "print(f\"Percentage of Sales from Discounts: {percentage_discounted:.2f}%\")"
   ]
  },
  {
   "cell_type": "markdown",
   "metadata": {},
   "source": [
    "# EDA (Exploratory Data Analysis)\n",
    "- Analyze the data to uncover patterns, trends, and insights"
   ]
  },
  {
   "cell_type": "markdown",
   "metadata": {},
   "source": [
    "- ### Step 1: Summary Statistics"
   ]
  },
  {
   "cell_type": "code",
   "execution_count": 29,
   "metadata": {},
   "outputs": [
    {
     "name": "stdout",
     "output_type": "stream",
     "text": [
      "Data Info:\n",
      "<class 'pandas.core.frame.DataFrame'>\n",
      "Index: 1000000 entries, 0 to 999999\n",
      "Data columns (total 20 columns):\n",
      " #   Column             Non-Null Count    Dtype  \n",
      "---  ------             --------------    -----  \n",
      " 0   Transaction_ID     1000000 non-null  object \n",
      " 1   Country            1000000 non-null  object \n",
      " 2   Region             1000000 non-null  object \n",
      " 3   Store_Type         1000000 non-null  object \n",
      " 4   Category           1000000 non-null  object \n",
      " 5   Item_ID            1000000 non-null  object \n",
      " 6   Quantity           1000000 non-null  float64\n",
      " 7   Price_per_Unit     1000000 non-null  float64\n",
      " 8   Total_Sales        1000000 non-null  float64\n",
      " 9   Discount_Applied   1000000 non-null  bool   \n",
      " 10  Day                1000000 non-null  object \n",
      " 11  Payment_Method     1000000 non-null  object \n",
      " 12  Customer_ID        1000000 non-null  object \n",
      " 13  Loyalty_Card_Used  1000000 non-null  bool   \n",
      " 14  Employee_ID        1000000 non-null  object \n",
      " 15  Feedback_Score     1000000 non-null  float64\n",
      " 16  Return             1000000 non-null  bool   \n",
      " 17  Weather            1000000 non-null  object \n",
      " 18  Holiday            1000000 non-null  bool   \n",
      " 19  Discounted_Sale    1000000 non-null  float64\n",
      "dtypes: bool(4), float64(5), object(11)\n",
      "memory usage: 133.5+ MB\n",
      "None\n",
      "\n",
      "Summary of Numerical Columns:\n",
      "             Quantity  Price_per_Unit     Total_Sales  Feedback_Score  \\\n",
      "count  1000000.000000  1000000.000000  1000000.000000  1000000.000000   \n",
      "mean        50.447168      250.272948    12620.490618        3.000176   \n",
      "std         27.391196      140.429403    10568.397514        1.183455   \n",
      "min          1.000000        1.000000        1.010000        1.000000   \n",
      "25%         28.000000      132.110000     3829.080000        2.000000   \n",
      "50%         50.000000      249.880000    10067.625000        3.000000   \n",
      "75%         73.000000      368.650000    19083.602500        4.000000   \n",
      "max        100.000000      500.000000    49992.000000        5.000000   \n",
      "\n",
      "       Discounted_Sale  \n",
      "count   1000000.000000  \n",
      "mean       4203.889620  \n",
      "std        8522.055835  \n",
      "min           0.000000  \n",
      "25%           0.000000  \n",
      "50%           0.000000  \n",
      "75%        3804.570000  \n",
      "max       49989.000000  \n",
      "\n",
      "Unique Values in Categorical Columns:\n",
      "Transaction_ID: 946397 unique values\n",
      "Country: 20 unique values\n",
      "Region: 5 unique values\n",
      "Store_Type: 10 unique values\n",
      "Category: 20 unique values\n",
      "Item_ID: 89998 unique values\n",
      "Day: 7 unique values\n",
      "Payment_Method: 5 unique values\n",
      "Customer_ID: 530163 unique values\n",
      "Employee_ID: 9001 unique values\n",
      "Weather: 5 unique values\n"
     ]
    }
   ],
   "source": [
    "# Overview of the dataset\n",
    "print(\"Data Info:\")\n",
    "print(df.info())\n",
    "\n",
    "# Summary of numerical columns\n",
    "print(\"\\nSummary of Numerical Columns:\")\n",
    "print(df.describe())\n",
    "\n",
    "# Unique counts for categorical columns\n",
    "print(\"\\nUnique Values in Categorical Columns:\")\n",
    "for col in df.select_dtypes(include=['object']).columns:\n",
    "    print(f\"{col}: {df[col].nunique()} unique values\")\n"
   ]
  },
  {
   "cell_type": "code",
   "execution_count": 30,
   "metadata": {},
   "outputs": [
    {
     "data": {
      "text/html": [
       "<div>\n",
       "<style scoped>\n",
       "    .dataframe tbody tr th:only-of-type {\n",
       "        vertical-align: middle;\n",
       "    }\n",
       "\n",
       "    .dataframe tbody tr th {\n",
       "        vertical-align: top;\n",
       "    }\n",
       "\n",
       "    .dataframe thead th {\n",
       "        text-align: right;\n",
       "    }\n",
       "</style>\n",
       "<table border=\"1\" class=\"dataframe\">\n",
       "  <thead>\n",
       "    <tr style=\"text-align: right;\">\n",
       "      <th></th>\n",
       "      <th>Quantity</th>\n",
       "      <th>Price_per_Unit</th>\n",
       "      <th>Total_Sales</th>\n",
       "      <th>Feedback_Score</th>\n",
       "      <th>Discounted_Sale</th>\n",
       "    </tr>\n",
       "  </thead>\n",
       "  <tbody>\n",
       "    <tr>\n",
       "      <th>count</th>\n",
       "      <td>1000000.000000</td>\n",
       "      <td>1000000.000000</td>\n",
       "      <td>1000000.000000</td>\n",
       "      <td>1000000.000000</td>\n",
       "      <td>1000000.000000</td>\n",
       "    </tr>\n",
       "    <tr>\n",
       "      <th>mean</th>\n",
       "      <td>50.447168</td>\n",
       "      <td>250.272948</td>\n",
       "      <td>12620.490618</td>\n",
       "      <td>3.000176</td>\n",
       "      <td>4203.889620</td>\n",
       "    </tr>\n",
       "    <tr>\n",
       "      <th>std</th>\n",
       "      <td>27.391196</td>\n",
       "      <td>140.429403</td>\n",
       "      <td>10568.397514</td>\n",
       "      <td>1.183455</td>\n",
       "      <td>8522.055835</td>\n",
       "    </tr>\n",
       "    <tr>\n",
       "      <th>min</th>\n",
       "      <td>1.000000</td>\n",
       "      <td>1.000000</td>\n",
       "      <td>1.010000</td>\n",
       "      <td>1.000000</td>\n",
       "      <td>0.000000</td>\n",
       "    </tr>\n",
       "    <tr>\n",
       "      <th>25%</th>\n",
       "      <td>28.000000</td>\n",
       "      <td>132.110000</td>\n",
       "      <td>3829.080000</td>\n",
       "      <td>2.000000</td>\n",
       "      <td>0.000000</td>\n",
       "    </tr>\n",
       "    <tr>\n",
       "      <th>50%</th>\n",
       "      <td>50.000000</td>\n",
       "      <td>249.880000</td>\n",
       "      <td>10067.625000</td>\n",
       "      <td>3.000000</td>\n",
       "      <td>0.000000</td>\n",
       "    </tr>\n",
       "    <tr>\n",
       "      <th>75%</th>\n",
       "      <td>73.000000</td>\n",
       "      <td>368.650000</td>\n",
       "      <td>19083.602500</td>\n",
       "      <td>4.000000</td>\n",
       "      <td>3804.570000</td>\n",
       "    </tr>\n",
       "    <tr>\n",
       "      <th>max</th>\n",
       "      <td>100.000000</td>\n",
       "      <td>500.000000</td>\n",
       "      <td>49992.000000</td>\n",
       "      <td>5.000000</td>\n",
       "      <td>49989.000000</td>\n",
       "    </tr>\n",
       "  </tbody>\n",
       "</table>\n",
       "</div>"
      ],
      "text/plain": [
       "             Quantity  Price_per_Unit     Total_Sales  Feedback_Score  \\\n",
       "count  1000000.000000  1000000.000000  1000000.000000  1000000.000000   \n",
       "mean        50.447168      250.272948    12620.490618        3.000176   \n",
       "std         27.391196      140.429403    10568.397514        1.183455   \n",
       "min          1.000000        1.000000        1.010000        1.000000   \n",
       "25%         28.000000      132.110000     3829.080000        2.000000   \n",
       "50%         50.000000      249.880000    10067.625000        3.000000   \n",
       "75%         73.000000      368.650000    19083.602500        4.000000   \n",
       "max        100.000000      500.000000    49992.000000        5.000000   \n",
       "\n",
       "       Discounted_Sale  \n",
       "count   1000000.000000  \n",
       "mean       4203.889620  \n",
       "std        8522.055835  \n",
       "min           0.000000  \n",
       "25%           0.000000  \n",
       "50%           0.000000  \n",
       "75%        3804.570000  \n",
       "max       49989.000000  "
      ]
     },
     "execution_count": 30,
     "metadata": {},
     "output_type": "execute_result"
    }
   ],
   "source": [
    "df.describe()"
   ]
  },
  {
   "cell_type": "code",
   "execution_count": 31,
   "metadata": {},
   "outputs": [
    {
     "name": "stdout",
     "output_type": "stream",
     "text": [
      "Percentage of missing values:\n",
      "Transaction_ID       0.0\n",
      "Country              0.0\n",
      "Region               0.0\n",
      "Store_Type           0.0\n",
      "Category             0.0\n",
      "Item_ID              0.0\n",
      "Quantity             0.0\n",
      "Price_per_Unit       0.0\n",
      "Total_Sales          0.0\n",
      "Discount_Applied     0.0\n",
      "Day                  0.0\n",
      "Payment_Method       0.0\n",
      "Customer_ID          0.0\n",
      "Loyalty_Card_Used    0.0\n",
      "Employee_ID          0.0\n",
      "Feedback_Score       0.0\n",
      "Return               0.0\n",
      "Weather              0.0\n",
      "Holiday              0.0\n",
      "Discounted_Sale      0.0\n",
      "dtype: float64\n"
     ]
    }
   ],
   "source": [
    "# Calculate percentage of missing values for each column\n",
    "missing_percentage = df.isnull().sum() / len(df) * 100\n",
    "print(\"Percentage of missing values:\")\n",
    "print(missing_percentage)"
   ]
  },
  {
   "cell_type": "code",
   "execution_count": 32,
   "metadata": {},
   "outputs": [
    {
     "name": "stdout",
     "output_type": "stream",
     "text": [
      "Mode of Quantity: 50.0\n",
      "Median of Quantity: 50.0\n",
      "Mean of Quantity: 50.447168\n",
      "Mode of Price_per_Unit: 249.88\n",
      "Median of Price_per_Unit: 249.88\n",
      "Mean of Price_per_Unit: 250.27294781999998\n"
     ]
    }
   ],
   "source": [
    "# Calculate mode, median, and mean for Quantity\n",
    "print(\"Mode of Quantity:\", df['Quantity'].mode()[0])\n",
    "print(\"Median of Quantity:\", df['Quantity'].median())\n",
    "print(\"Mean of Quantity:\", df['Quantity'].mean())\n",
    "\n",
    "# Calculate mode, median, and mean for Price_per_Unit\n",
    "print(\"Mode of Price_per_Unit:\", df['Price_per_Unit'].mode()[0])\n",
    "print(\"Median of Price_per_Unit:\", df['Price_per_Unit'].median())\n",
    "print(\"Mean of Price_per_Unit:\", df['Price_per_Unit'].mean())"
   ]
  },
  {
   "cell_type": "markdown",
   "metadata": {},
   "source": [
    "# Categorical Variables Analysis"
   ]
  },
  {
   "cell_type": "code",
   "execution_count": 33,
   "metadata": {},
   "outputs": [
    {
     "name": "stdout",
     "output_type": "stream",
     "text": [
      "Transactions by country:\n",
      "Country\n",
      "Australia           70389\n",
      "China               70386\n",
      "India               70067\n",
      "South Africa        69996\n",
      "Germany             69988\n",
      "UK                  69883\n",
      "Japan               69880\n",
      "USA                 69838\n",
      "Canada              69589\n",
      "Brazil              69566\n",
      "  South Africa      30301\n",
      "  USA               30273\n",
      "  UK                30233\n",
      "  China             30150\n",
      "  Brazil            30019\n",
      "  Australia         29990\n",
      "  Germany           29985\n",
      "  Canada            29871\n",
      "  Japan             29804\n",
      "  India             29792\n",
      "Name: count, dtype: int64\n"
     ]
    }
   ],
   "source": [
    "# Distribution of Country\n",
    "# Count transactions by country\n",
    "country_counts = df['Country'].value_counts()\n",
    "print(\"Transactions by country:\")\n",
    "print(country_counts)"
   ]
  },
  {
   "cell_type": "code",
   "execution_count": 34,
   "metadata": {},
   "outputs": [
    {
     "data": {
      "image/png": "[encoded data removed]",
      "text/plain": [
       "<Figure size 800x800 with 1 Axes>"
      ]
     },
     "metadata": {},
     "output_type": "display_data"
    }
   ],
   "source": [
    "# Plot pie chart for transactions by country\n",
    "import matplotlib.pyplot as plt\n",
    "plt.figure(figsize=(8, 8))\n",
    "country_counts.plot(kind='pie', autopct='%1.1f%%', startangle=90, legend=False, colormap='tab20')\n",
    "plt.title(\"Transactions by Country\")\n",
    "plt.show()"
   ]
  },
  {
   "cell_type": "code",
   "execution_count": 35,
   "metadata": {},
   "outputs": [
    {
     "name": "stdout",
     "output_type": "stream",
     "text": [
      "Store type distribution:\n",
      "Store_Type\n",
      "None               100306\n",
      "Grocery Store      100281\n",
      "Supermarket        100229\n",
      "Hypermarket        100162\n",
      "Grocery Store       99984\n",
      "Wholesale           99935\n",
      "Wholesale           99809\n",
      "Supermarket         99805\n",
      "Unknown             99782\n",
      "Hypermarket         99707\n",
      "Name: count, dtype: int64\n"
     ]
    }
   ],
   "source": [
    "# Count store types\n",
    "store_type_counts = df['Store_Type'].value_counts()\n",
    "print(\"Store type distribution:\")\n",
    "print(store_type_counts)"
   ]
  },
  {
   "cell_type": "code",
   "execution_count": 36,
   "metadata": {},
   "outputs": [
    {
     "data": {
      "image/png": "[encoded data removed]",
      "text/plain": [
       "<Figure size 800x400 with 1 Axes>"
      ]
     },
     "metadata": {},
     "output_type": "display_data"
    }
   ],
   "source": [
    "# Plot store type distribution\n",
    "store_type_counts.plot(kind='bar', title=\"Store Type Distribution\", figsize=(8, 4), color='skyblue')\n",
    "plt.xlabel(\"Store Type\")\n",
    "plt.ylabel(\"Count\")\n",
    "plt.show()"
   ]
  },
  {
   "cell_type": "markdown",
   "metadata": {},
   "source": [
    "# Numerical Variables Analysis"
   ]
  },
  {
   "cell_type": "code",
   "execution_count": 37,
   "metadata": {},
   "outputs": [
    {
     "data": {
      "image/png": "[encoded data removed]",
      "text/plain": [
       "<Figure size 800x500 with 1 Axes>"
      ]
     },
     "metadata": {},
     "output_type": "display_data"
    }
   ],
   "source": [
    "# Plot histogram of Quantity\n",
    "df['Quantity'].plot(kind='hist', bins=30, title=\"Quantity Distribution\",\n",
    "                    figsize=(8, 5))\n",
    "plt.xlabel(\"Quantity\")\n",
    "plt.show()\n"
   ]
  },
  {
   "cell_type": "markdown",
   "metadata": {},
   "source": [
    "# Total Sales Analysis"
   ]
  },
  {
   "cell_type": "code",
   "execution_count": 38,
   "metadata": {},
   "outputs": [
    {
     "name": "stdout",
     "output_type": "stream",
     "text": [
      "Mean of Total Sales: 12620.49061751\n",
      "Median of Total Sales: 10067.625\n"
     ]
    }
   ],
   "source": [
    "# Calculate mean and median for Total Sales\n",
    "print(\"Mean of Total Sales:\", df['Total_Sales'].mean())\n",
    "print(\"Median of Total Sales:\", df['Total_Sales'].median())"
   ]
  },
  {
   "cell_type": "code",
   "execution_count": 39,
   "metadata": {},
   "outputs": [
    {
     "data": {
      "image/png": "[encoded data removed]",
      "text/plain": [
       "<Figure size 800x200 with 1 Axes>"
      ]
     },
     "metadata": {},
     "output_type": "display_data"
    }
   ],
   "source": [
    "# Plot boxplot of Total Sales\n",
    "df['Total_Sales'].plot(kind='box', title=\"Total Sales Boxplot\", \n",
    "                       vert=False, figsize=(8, 2))\n",
    "plt.xlabel(\"Total Sales\")\n",
    "plt.show()"
   ]
  },
  {
   "cell_type": "markdown",
   "metadata": {},
   "source": [
    "# Relationships Between Variables"
   ]
  },
  {
   "cell_type": "code",
   "execution_count": 40,
   "metadata": {},
   "outputs": [
    {
     "name": "stdout",
     "output_type": "stream",
     "text": [
      "Total Sales by Category:\n",
      "Category\n",
      "  Beverages      6.340139e+08\n",
      "  Clothing       6.269552e+08\n",
      "  Dairy          6.289429e+08\n",
      "  Electronics    6.277115e+08\n",
      "  Fruits         6.364404e+08\n",
      "  Household      6.319572e+08\n",
      "  Meat           6.326188e+08\n",
      "  None           6.310069e+08\n",
      "  Snacks         6.310543e+08\n",
      "  Vegetables     6.312384e+08\n",
      "Beverages        6.308910e+08\n",
      "Clothing         6.300963e+08\n",
      "Dairy            6.240753e+08\n",
      "Electronics      6.264186e+08\n",
      "Fruits           6.341998e+08\n",
      "Household        6.329872e+08\n",
      "Meat             6.300489e+08\n",
      "Snacks           6.297719e+08\n",
      "Unknown          6.331559e+08\n",
      "Vegetables       6.369061e+08\n",
      "Name: Total_Sales, dtype: float64\n"
     ]
    }
   ],
   "source": [
    "# Calculate total sales by category\n",
    "sales_by_category = df.groupby('Category')['Total_Sales'].sum()\n",
    "print(\"Total Sales by Category:\")\n",
    "print(sales_by_category)"
   ]
  },
  {
   "cell_type": "code",
   "execution_count": 41,
   "metadata": {},
   "outputs": [
    {
     "data": {
      "image/png": "[encoded data removed]",
      "text/plain": [
       "<Figure size 1000x500 with 1 Axes>"
      ]
     },
     "metadata": {},
     "output_type": "display_data"
    }
   ],
   "source": [
    "# Plot total sales by category\n",
    "sales_by_category.plot(kind='bar', title=\"Total Sales by Category\", figsize=(10, 5), color='lightgreen')\n",
    "plt.xlabel(\"Category\")\n",
    "plt.ylabel(\"Total Sales\")\n",
    "plt.show()"
   ]
  },
  {
   "cell_type": "markdown",
   "metadata": {},
   "source": [
    "# Total Sales by Country"
   ]
  },
  {
   "cell_type": "code",
   "execution_count": 42,
   "metadata": {},
   "outputs": [
    {
     "name": "stdout",
     "output_type": "stream",
     "text": [
      "Total Sales by Country:\n",
      "Country\n",
      "  Australia         3.784908e+08\n",
      "  Brazil            3.803158e+08\n",
      "  Canada            3.765816e+08\n",
      "  China             3.808549e+08\n",
      "  Germany           3.784435e+08\n",
      "  India             3.759648e+08\n",
      "  Japan             3.761617e+08\n",
      "  South Africa      3.835809e+08\n",
      "  UK                3.823276e+08\n",
      "  USA               3.810718e+08\n",
      "Australia           8.890296e+08\n",
      "Brazil              8.767368e+08\n",
      "Canada              8.807654e+08\n",
      "China               8.905159e+08\n",
      "Germany             8.838595e+08\n",
      "India               8.818123e+08\n",
      "Japan               8.821561e+08\n",
      "South Africa        8.806230e+08\n",
      "UK                  8.761994e+08\n",
      "USA                 8.849989e+08\n",
      "Name: Total_Sales, dtype: float64\n"
     ]
    }
   ],
   "source": [
    "# Calculate total sales by country\n",
    "sales_by_country = df.groupby('Country')['Total_Sales'].sum()\n",
    "print(\"Total Sales by Country:\")\n",
    "print(sales_by_country)"
   ]
  },
  {
   "cell_type": "code",
   "execution_count": 43,
   "metadata": {},
   "outputs": [
    {
     "data": {
      "image/png": "[encoded data removed]",
      "text/plain": [
       "<Figure size 1000x500 with 1 Axes>"
      ]
     },
     "metadata": {},
     "output_type": "display_data"
    }
   ],
   "source": [
    "# Plot total sales by country\n",
    "sales_by_country.plot(kind='bar', title=\"Total Sales by Country\", figsize=(10, 5), color='orange')\n",
    "plt.xlabel(\"Country\")\n",
    "plt.ylabel(\"Total Sales\")\n",
    "plt.show()"
   ]
  },
  {
   "cell_type": "markdown",
   "metadata": {},
   "source": [
    "# Time-Based Analysis"
   ]
  },
  {
   "cell_type": "code",
   "execution_count": 44,
   "metadata": {},
   "outputs": [
    {
     "name": "stdout",
     "output_type": "stream",
     "text": [
      "Transactions by Day:\n",
      "Day\n",
      "Thursday     143415\n",
      "Friday       143320\n",
      "Saturday     143312\n",
      "Monday       143082\n",
      "Sunday       142525\n",
      "Wednesday    142226\n",
      "Tuesday      142120\n",
      "Name: count, dtype: int64\n"
     ]
    }
   ],
   "source": [
    "# Transactions by Day\n",
    "# Count transactions by day\n",
    "transactions_by_day = df['Day'].value_counts()\n",
    "print(\"Transactions by Day:\")\n",
    "print(transactions_by_day)"
   ]
  },
  {
   "cell_type": "code",
   "execution_count": 45,
   "metadata": {},
   "outputs": [
    {
     "data": {
      "image/png": "[encoded data removed]",
      "text/plain": [
       "<Figure size 800x400 with 1 Axes>"
      ]
     },
     "metadata": {},
     "output_type": "display_data"
    }
   ],
   "source": [
    "# Plot transactions by day\n",
    "transactions_by_day.plot(kind='bar', title=\"Transactions by Day\", figsize=(8, 4), color='purple')\n",
    "plt.xlabel(\"Day\")\n",
    "plt.ylabel(\"Number of Transactions\")\n",
    "plt.show()"
   ]
  },
  {
   "cell_type": "markdown",
   "metadata": {},
   "source": [
    "# Correlation Analysis"
   ]
  },
  {
   "cell_type": "code",
   "execution_count": 46,
   "metadata": {},
   "outputs": [
    {
     "name": "stdout",
     "output_type": "stream",
     "text": [
      "Correlation Matrix:\n",
      "                Quantity  Price_per_Unit  Total_Sales\n",
      "Quantity        1.000000       -0.001318     0.647023\n",
      "Price_per_Unit -0.001318        1.000000     0.669130\n",
      "Total_Sales     0.647023        0.669130     1.000000\n"
     ]
    }
   ],
   "source": [
    "# Correlation Between Numerical Variables\n",
    "# Calculate correlation matrix\n",
    "correlation_matrix = df[['Quantity', 'Price_per_Unit', \n",
    "                         'Total_Sales']].corr()\n",
    "print(\"Correlation Matrix:\")\n",
    "print(correlation_matrix)"
   ]
  },
  {
   "cell_type": "markdown",
   "metadata": {},
   "source": [
    "# Key Insights"
   ]
  },
  {
   "cell_type": "code",
   "execution_count": 47,
   "metadata": {},
   "outputs": [
    {
     "name": "stdout",
     "output_type": "stream",
     "text": [
      "Most transactions by country: Australia\n",
      "Highest total sales by category: Vegetables\n",
      "Country with highest total sales: China\n"
     ]
    }
   ],
   "source": [
    "# Print key insights\n",
    "print(\"Most transactions by country:\", country_counts.idxmax())\n",
    "print(\"Highest total sales by category:\", sales_by_category.idxmax())\n",
    "print(\"Country with highest total sales:\", sales_by_country.idxmax())\n",
    "print(\"Day with most transactions:\", transactions_by_day.idxmax())\n"
   ]
  },
  {
   "cell_type": "markdown",
   "metadata": {},
   "source": [
    "# Sales Performance Analysis"
   ]
  },
  {
   "cell_type": "code",
   "execution_count": 48,
   "metadata": {},
   "outputs": [
    {
     "name": "stdout",
     "output_type": "stream",
     "text": [
      "<class 'pandas.core.frame.DataFrame'>\n",
      "Index: 1000000 entries, 0 to 999999\n",
      "Data columns (total 20 columns):\n",
      " #   Column             Non-Null Count    Dtype  \n",
      "---  ------             --------------    -----  \n",
      " 0   Transaction_ID     1000000 non-null  object \n",
      " 1   Country            1000000 non-null  object \n",
      " 2   Region             1000000 non-null  object \n",
      " 3   Store_Type         1000000 non-null  object \n",
      " 4   Category           1000000 non-null  object \n",
      " 5   Item_ID            1000000 non-null  object \n",
      " 6   Quantity           1000000 non-null  float64\n",
      " 7   Price_per_Unit     1000000 non-null  float64\n",
      " 8   Total_Sales        1000000 non-null  float64\n",
      " 9   Discount_Applied   1000000 non-null  bool   \n",
      " 10  Day                1000000 non-null  object \n",
      " 11  Payment_Method     1000000 non-null  object \n",
      " 12  Customer_ID        1000000 non-null  object \n",
      " 13  Loyalty_Card_Used  1000000 non-null  bool   \n",
      " 14  Employee_ID        1000000 non-null  object \n",
      " 15  Feedback_Score     1000000 non-null  float64\n",
      " 16  Return             1000000 non-null  bool   \n",
      " 17  Weather            1000000 non-null  object \n",
      " 18  Holiday            1000000 non-null  bool   \n",
      " 19  Discounted_Sale    1000000 non-null  float64\n",
      "dtypes: bool(4), float64(5), object(11)\n",
      "memory usage: 133.5+ MB\n"
     ]
    }
   ],
   "source": [
    "df.info()"
   ]
  },
  {
   "cell_type": "code",
   "execution_count": 49,
   "metadata": {},
   "outputs": [
    {
     "data": {
      "text/html": [
       "<div>\n",
       "<style scoped>\n",
       "    .dataframe tbody tr th:only-of-type {\n",
       "        vertical-align: middle;\n",
       "    }\n",
       "\n",
       "    .dataframe tbody tr th {\n",
       "        vertical-align: top;\n",
       "    }\n",
       "\n",
       "    .dataframe thead th {\n",
       "        text-align: right;\n",
       "    }\n",
       "</style>\n",
       "<table border=\"1\" class=\"dataframe\">\n",
       "  <thead>\n",
       "    <tr style=\"text-align: right;\">\n",
       "      <th></th>\n",
       "      <th>Transaction_ID</th>\n",
       "      <th>Country</th>\n",
       "      <th>Region</th>\n",
       "      <th>Store_Type</th>\n",
       "      <th>Category</th>\n",
       "      <th>Item_ID</th>\n",
       "      <th>Quantity</th>\n",
       "      <th>Price_per_Unit</th>\n",
       "      <th>Total_Sales</th>\n",
       "      <th>Discount_Applied</th>\n",
       "      <th>Day</th>\n",
       "      <th>Payment_Method</th>\n",
       "      <th>Customer_ID</th>\n",
       "      <th>Loyalty_Card_Used</th>\n",
       "      <th>Employee_ID</th>\n",
       "      <th>Feedback_Score</th>\n",
       "      <th>Return</th>\n",
       "      <th>Weather</th>\n",
       "      <th>Holiday</th>\n",
       "      <th>Discounted_Sale</th>\n",
       "    </tr>\n",
       "  </thead>\n",
       "  <tbody>\n",
       "    <tr>\n",
       "      <th>0</th>\n",
       "      <td>T2867825</td>\n",
       "      <td>UK</td>\n",
       "      <td>South</td>\n",
       "      <td>Supermarket</td>\n",
       "      <td>Fruits</td>\n",
       "      <td>I36836</td>\n",
       "      <td>43.0</td>\n",
       "      <td>344.61</td>\n",
       "      <td>14818.23</td>\n",
       "      <td>False</td>\n",
       "      <td>Friday</td>\n",
       "      <td>Cash</td>\n",
       "      <td>C298340</td>\n",
       "      <td>True</td>\n",
       "      <td>E2761</td>\n",
       "      <td>3.0</td>\n",
       "      <td>False</td>\n",
       "      <td>Snowy</td>\n",
       "      <td>False</td>\n",
       "      <td>0.00</td>\n",
       "    </tr>\n",
       "    <tr>\n",
       "      <th>1</th>\n",
       "      <td>T1419610</td>\n",
       "      <td>USA</td>\n",
       "      <td>South</td>\n",
       "      <td>Wholesale</td>\n",
       "      <td>Beverages</td>\n",
       "      <td>I85457</td>\n",
       "      <td>76.0</td>\n",
       "      <td>414.14</td>\n",
       "      <td>31474.64</td>\n",
       "      <td>False</td>\n",
       "      <td>Thursday</td>\n",
       "      <td>Cash</td>\n",
       "      <td>C467140</td>\n",
       "      <td>False</td>\n",
       "      <td>E6782</td>\n",
       "      <td>4.0</td>\n",
       "      <td>False</td>\n",
       "      <td>Sunny</td>\n",
       "      <td>False</td>\n",
       "      <td>0.00</td>\n",
       "    </tr>\n",
       "    <tr>\n",
       "      <th>2</th>\n",
       "      <td>T5614226</td>\n",
       "      <td>USA</td>\n",
       "      <td>Central</td>\n",
       "      <td>None</td>\n",
       "      <td>Beverages</td>\n",
       "      <td>I28818</td>\n",
       "      <td>53.0</td>\n",
       "      <td>157.36</td>\n",
       "      <td>8340.08</td>\n",
       "      <td>False</td>\n",
       "      <td>Sunday</td>\n",
       "      <td>Debit Card</td>\n",
       "      <td>C203743</td>\n",
       "      <td>False</td>\n",
       "      <td>E9469</td>\n",
       "      <td>3.0</td>\n",
       "      <td>False</td>\n",
       "      <td>Unknown</td>\n",
       "      <td>True</td>\n",
       "      <td>0.00</td>\n",
       "    </tr>\n",
       "    <tr>\n",
       "      <th>3</th>\n",
       "      <td>T5108603</td>\n",
       "      <td>Canada</td>\n",
       "      <td>East</td>\n",
       "      <td>Unknown</td>\n",
       "      <td>Vegetables</td>\n",
       "      <td>I98489</td>\n",
       "      <td>29.0</td>\n",
       "      <td>371.94</td>\n",
       "      <td>10786.26</td>\n",
       "      <td>True</td>\n",
       "      <td>Wednesday</td>\n",
       "      <td>Unknown</td>\n",
       "      <td>C785538</td>\n",
       "      <td>False</td>\n",
       "      <td>E6376</td>\n",
       "      <td>3.0</td>\n",
       "      <td>False</td>\n",
       "      <td>Unknown</td>\n",
       "      <td>True</td>\n",
       "      <td>10786.26</td>\n",
       "    </tr>\n",
       "    <tr>\n",
       "      <th>4</th>\n",
       "      <td>T4744854</td>\n",
       "      <td>Brazil</td>\n",
       "      <td>West</td>\n",
       "      <td>Grocery Store</td>\n",
       "      <td>Dairy</td>\n",
       "      <td>I22306</td>\n",
       "      <td>13.0</td>\n",
       "      <td>464.09</td>\n",
       "      <td>6033.17</td>\n",
       "      <td>False</td>\n",
       "      <td>Saturday</td>\n",
       "      <td>Mobile Payment</td>\n",
       "      <td>Unknown</td>\n",
       "      <td>False</td>\n",
       "      <td>E8737</td>\n",
       "      <td>3.0</td>\n",
       "      <td>False</td>\n",
       "      <td>Sunny</td>\n",
       "      <td>False</td>\n",
       "      <td>0.00</td>\n",
       "    </tr>\n",
       "  </tbody>\n",
       "</table>\n",
       "</div>"
      ],
      "text/plain": [
       "  Transaction_ID     Country   Region       Store_Type      Category Item_ID  \\\n",
       "0       T2867825          UK    South    Supermarket          Fruits  I36836   \n",
       "1       T1419610         USA    South        Wholesale     Beverages  I85457   \n",
       "2       T5614226         USA  Central           None       Beverages  I28818   \n",
       "3       T5108603    Canada       East          Unknown    Vegetables  I98489   \n",
       "4       T4744854    Brazil       West  Grocery Store           Dairy  I22306   \n",
       "\n",
       "   Quantity  Price_per_Unit  Total_Sales  Discount_Applied        Day  \\\n",
       "0      43.0          344.61     14818.23             False     Friday   \n",
       "1      76.0          414.14     31474.64             False   Thursday   \n",
       "2      53.0          157.36      8340.08             False     Sunday   \n",
       "3      29.0          371.94     10786.26              True  Wednesday   \n",
       "4      13.0          464.09      6033.17             False   Saturday   \n",
       "\n",
       "   Payment_Method Customer_ID  Loyalty_Card_Used Employee_ID  Feedback_Score  \\\n",
       "0            Cash     C298340               True       E2761             3.0   \n",
       "1            Cash     C467140              False       E6782             4.0   \n",
       "2      Debit Card     C203743              False       E9469             3.0   \n",
       "3         Unknown     C785538              False       E6376             3.0   \n",
       "4  Mobile Payment     Unknown              False       E8737             3.0   \n",
       "\n",
       "   Return  Weather  Holiday  Discounted_Sale  \n",
       "0   False    Snowy    False             0.00  \n",
       "1   False    Sunny    False             0.00  \n",
       "2   False  Unknown     True             0.00  \n",
       "3   False  Unknown     True         10786.26  \n",
       "4   False    Sunny    False             0.00  "
      ]
     },
     "execution_count": 49,
     "metadata": {},
     "output_type": "execute_result"
    }
   ],
   "source": [
    "df.head()"
   ]
  },
  {
   "cell_type": "markdown",
   "metadata": {},
   "source": [
    "# Price Ranges of Products"
   ]
  },
  {
   "cell_type": "code",
   "execution_count": 50,
   "metadata": {},
   "outputs": [
    {
     "name": "stdout",
     "output_type": "stream",
     "text": [
      "Minimum Price: 1.0\n",
      "Maximum Price: 500.0\n",
      "Average Price: 250.27294781999998\n"
     ]
    }
   ],
   "source": [
    "# Calculate minimum, maximum, and average price per unit\n",
    "min_price = df['Price_per_Unit'].min()\n",
    "max_price = df['Price_per_Unit'].max()\n",
    "avg_price = df['Price_per_Unit'].mean()\n",
    "\n",
    "print(\"Minimum Price:\", min_price)\n",
    "print(\"Maximum Price:\", max_price)\n",
    "print(\"Average Price:\", avg_price)"
   ]
  },
  {
   "cell_type": "code",
   "execution_count": 51,
   "metadata": {},
   "outputs": [
    {
     "data": {
      "image/png": "[encoded data removed]",
      "text/plain": [
       "<Figure size 800x500 with 1 Axes>"
      ]
     },
     "metadata": {},
     "output_type": "display_data"
    }
   ],
   "source": [
    "# Plot price range\n",
    "plt.figure(figsize=(8, 5))\n",
    "plt.boxplot(df['Price_per_Unit'].dropna())\n",
    "plt.title(\"Price Range of Products\")\n",
    "plt.ylabel(\"Price per Unit\")\n",
    "plt.show()"
   ]
  },
  {
   "cell_type": "code",
   "execution_count": 52,
   "metadata": {},
   "outputs": [
    {
     "name": "stdout",
     "output_type": "stream",
     "text": [
      "Number of transactions by customer type:\n",
      "Loyalty_Card_Used\n",
      "False    666977\n",
      "True     333023\n",
      "Name: count, dtype: int64\n"
     ]
    }
   ],
   "source": [
    "# Number of Transactions Per Customer Type\n",
    "# Count transactions by customer type\n",
    "transactions_by_customer_type = df['Loyalty_Card_Used'].value_counts()\n",
    "print(\"Number of transactions by customer type:\")\n",
    "print(transactions_by_customer_type)"
   ]
  },
  {
   "cell_type": "markdown",
   "metadata": {},
   "source": [
    "----------------"
   ]
  },
  {
   "cell_type": "markdown",
   "metadata": {},
   "source": [
    "# Data Preparation for Modeling:\n",
    "- Prepared data for machine learning by encoding categorical variables and splitting the dataset."
   ]
  },
  {
   "cell_type": "code",
   "execution_count": 53,
   "metadata": {},
   "outputs": [],
   "source": [
    "# Import required libraries\n",
    "from sklearn.model_selection import train_test_split\n",
    "from sklearn.preprocessing import OneHotEncoder, LabelEncoder, StandardScaler"
   ]
  },
  {
   "cell_type": "code",
   "execution_count": 54,
   "metadata": {},
   "outputs": [],
   "source": [
    "# Step 2: Encoding Categorical Variables\n",
    "# List of categorical columns to encode\n",
    "categorical_columns = ['Country', 'Store_Type', 'Category', 'Payment_Method', 'Day', 'Weather']\n",
    "# One-Hot Encoding for categorical columns\n",
    "df_encoded = pd.get_dummies(df, columns=categorical_columns, drop_first=True)\n",
    "\n",
    "# Label Encoding for binary columns\n",
    "label_encoder = LabelEncoder()\n",
    "binary_columns = ['Loyalty_Card_Used', 'Discount_Applied', 'Return', 'Holiday']\n",
    "\n",
    "for col in binary_columns:\n",
    "    df_encoded[col] = label_encoder.fit_transform(df_encoded[col].astype(str))"
   ]
  },
  {
   "cell_type": "code",
   "execution_count": 55,
   "metadata": {},
   "outputs": [],
   "source": [
    "# Step 3: Feature Selection\n",
    "# Define features (X) and target (y)\n",
    "features = ['Total_Sales', 'Discount_Applied', 'Quantity']  # Include more numeric/categorical columns if needed\n",
    "X = df_encoded[features]\n",
    "y = df_encoded['Price_per_Unit']"
   ]
  },
  {
   "cell_type": "code",
   "execution_count": 56,
   "metadata": {},
   "outputs": [],
   "source": [
    "# Step 4: Scaling Features\n",
    "scaler = StandardScaler()\n",
    "X_scaled = scaler.fit_transform(X)"
   ]
  },
  {
   "cell_type": "code",
   "execution_count": 57,
   "metadata": {},
   "outputs": [],
   "source": [
    "# Step 5: Train-Test Split\n",
    "X_train, X_test, y_train, y_test = train_test_split(X_scaled, y, test_size=0.2, random_state=42)"
   ]
  },
  {
   "cell_type": "code",
   "execution_count": 58,
   "metadata": {},
   "outputs": [
    {
     "name": "stdout",
     "output_type": "stream",
     "text": [
      "X_train shape: (800000, 3)\n",
      "X_test shape: (200000, 3)\n",
      "y_train shape: (800000,)\n",
      "y_test shape: (200000,)\n"
     ]
    }
   ],
   "source": [
    "# Print results for verification\n",
    "print(\"X_train shape:\", X_train.shape)\n",
    "print(\"X_test shape:\", X_test.shape)\n",
    "print(\"y_train shape:\", y_train.shape)\n",
    "print(\"y_test shape:\", y_test.shape)"
   ]
  },
  {
   "cell_type": "markdown",
   "metadata": {},
   "source": [
    "# Model Building and Training:\n",
    "- Training  a machine learning model (e.g., regression)."
   ]
  },
  {
   "cell_type": "code",
   "execution_count": 59,
   "metadata": {},
   "outputs": [],
   "source": [
    "# Import libraries\n",
    "from sklearn.model_selection import train_test_split\n",
    "from sklearn.linear_model import LinearRegression\n",
    "from sklearn.ensemble import RandomForestRegressor\n",
    "from sklearn.svm import SVR\n",
    "from sklearn.metrics import mean_absolute_error, mean_squared_error, r2_score"
   ]
  },
  {
   "cell_type": "code",
   "execution_count": 60,
   "metadata": {},
   "outputs": [],
   "source": [
    "# 1. Define features (X) and target variable (y)\n",
    "# Here, we'll use 'Total_Sales', 'Discount_Applied', and 'Quantity' as predictors\n",
    "features = ['Total_Sales', 'Discount_Applied', 'Quantity']\n",
    "X = df[features]\n",
    "y = df['Price_per_Unit']"
   ]
  },
  {
   "cell_type": "code",
   "execution_count": 61,
   "metadata": {},
   "outputs": [],
   "source": [
    "# 2. Split into training and testing sets\n",
    "X_train, X_test, y_train, y_test = train_test_split(X, y, test_size=0.2, random_state=42)"
   ]
  },
  {
   "cell_type": "markdown",
   "metadata": {},
   "source": [
    "# Evaluation and Insights:\n",
    "- Evaluate the model and summarize findings."
   ]
  },
  {
   "cell_type": "code",
   "execution_count": 62,
   "metadata": {},
   "outputs": [],
   "source": [
    "# Function to train and evaluate a model\n",
    "def train_evaluate_model(model, model_name):\n",
    "    model.fit(X_train, y_train)  # Train the model\n",
    "    y_pred = model.predict(X_test)  # Make predictions\n",
    "\n",
    "    # Evaluate the model\n",
    "    mae = mean_absolute_error(y_test, y_pred)\n",
    "    mse = mean_squared_error(y_test, y_pred)\n",
    "    r2 = r2_score(y_test, y_pred)\n",
    "    \n",
    "    print(f\"--- {model_name} Results ---\")\n",
    "    print(f\"Mean Absolute Error (MAE): {mae:.2f}\")\n",
    "    print(f\"Mean Squared Error (MSE): {mse:.2f}\")\n",
    "    print(f\"R-Squared (R2): {r2:.2f}\\n\")\n",
    "    return y_pred"
   ]
  },
  {
   "cell_type": "code",
   "execution_count": 63,
   "metadata": {},
   "outputs": [
    {
     "name": "stdout",
     "output_type": "stream",
     "text": [
      "--- Linear Regression Results ---\n",
      "Mean Absolute Error (MAE): 47.25\n",
      "Mean Squared Error (MSE): 4494.60\n",
      "R-Squared (R2): 0.77\n",
      "\n"
     ]
    }
   ],
   "source": [
    "# 1. Linear Regression\n",
    "lr = LinearRegression()\n",
    "y_pred_lr = train_evaluate_model(lr, \"Linear Regression\")\n"
   ]
  },
  {
   "cell_type": "code",
   "execution_count": 64,
   "metadata": {},
   "outputs": [
    {
     "name": "stdout",
     "output_type": "stream",
     "text": [
      "--- Random Forest Regressor Results ---\n",
      "Mean Absolute Error (MAE): 0.03\n",
      "Mean Squared Error (MSE): 0.00\n",
      "R-Squared (R2): 1.00\n",
      "\n"
     ]
    }
   ],
   "source": [
    "# 2. Random Forest Regressor\n",
    "rf = RandomForestRegressor(n_estimators=10, random_state=42)\n",
    "y_pred_rf = train_evaluate_model(rf, \"Random Forest Regressor\")\n"
   ]
  },
  {
   "cell_type": "code",
   "execution_count": 65,
   "metadata": {},
   "outputs": [
    {
     "name": "stdout",
     "output_type": "stream",
     "text": [
      "SVR training on sample data completed successfully!\n"
     ]
    }
   ],
   "source": [
    "# Take a sample of the data (e.g., 10,000 rows)\n",
    "df_sample = df.sample(5000, random_state=42)\n",
    "\n",
    "# Redefine features and target using the smaller dataset\n",
    "X_sample = df_sample[['Total_Sales', 'Discount_Applied', 'Quantity']]\n",
    "y_sample = df_sample['Price_per_Unit']\n",
    "\n",
    "# Split into training and testing sets\n",
    "X_train_sample, X_test_sample, y_train_sample, y_test_sample = train_test_split(X_sample, y_sample, test_size=0.2, random_state=42)\n",
    "\n",
    "# Scale the smaller dataset\n",
    "scaler = StandardScaler()\n",
    "X_train_scaled = scaler.fit_transform(X_train_sample)\n",
    "X_test_scaled = scaler.transform(X_test_sample)\n",
    "\n",
    "# Train SVR on the smaller dataset\n",
    "svr = SVR(kernel='linear')  # Linear kernel for faster performance\n",
    "svr.fit(X_train_scaled, y_train_sample)\n",
    "\n",
    "# Evaluate SVR\n",
    "y_pred_svr = svr.predict(X_test_scaled)\n",
    "print(\"SVR training on sample data completed successfully!\")\n"
   ]
  },
  {
   "cell_type": "code",
   "execution_count": 66,
   "metadata": {},
   "outputs": [
    {
     "name": "stdout",
     "output_type": "stream",
     "text": [
      "SVR Training on Sample Data Completed Successfully!\n",
      "\n",
      "Evaluation Metrics for Support Vector Regressor:\n",
      "Mean Absolute Error (MAE): 46.09\n",
      "Mean Squared Error (MSE): 4236.74\n",
      "R² Score: 0.78\n"
     ]
    }
   ],
   "source": [
    "from sklearn.metrics import mean_absolute_error, mean_squared_error, r2_score\n",
    "\n",
    "# Evaluate SVR predictions\n",
    "y_pred_svr = svr.predict(X_test_scaled)\n",
    "\n",
    "# Calculate evaluation metrics\n",
    "mae = mean_absolute_error(y_test_sample, y_pred_svr)\n",
    "mse = mean_squared_error(y_test_sample, y_pred_svr)\n",
    "r2 = r2_score(y_test_sample, y_pred_svr)\n",
    "\n",
    "# Print evaluation results\n",
    "print(\"SVR Training on Sample Data Completed Successfully!\\n\")\n",
    "print(\"Evaluation Metrics for Support Vector Regressor:\")\n",
    "print(f\"Mean Absolute Error (MAE): {mae:.2f}\")\n",
    "print(f\"Mean Squared Error (MSE): {mse:.2f}\")\n",
    "print(f\"R² Score: {r2:.2f}\")\n"
   ]
  },
  {
   "cell_type": "markdown",
   "metadata": {},
   "source": [
    "\n",
    "## **Final Report**\n",
    "\n",
    "### **1. Title and Introduction**\n",
    "```plaintext\n",
    "\n",
    "## Introduction\n",
    "This project focuses on analyzing superstore sales data to uncover patterns and trends in transactions, customer behavior, and category performance. In addition to exploratory data analysis (EDA), machine learning models were developed to predict `Price_per_Unit` based on features like `Total_Sales`, `Quantity`, and `Discount_Applied`.  \n",
    "The goal was to gain actionable insights and build accurate predictive models.\n",
    "\n",
    "**Tools Used**: Python (`pandas`, `numpy`, `matplotlib`, `seaborn`, `scikit-learn`)\n",
    "```\n",
    "\n",
    "---\n",
    "\n",
    "### **2. Dataset Overview**\n",
    "\n",
    "```plaintext\n",
    "The dataset contains 1,000,000 rows and 20 columns, including sales-related features like `Transaction_ID`, `Category`, `Total_Sales`, and `Price_per_Unit`.  \n",
    "Key preprocessing steps included:\n",
    "1. Handling missing values by imputing numerical features (e.g., `Price_per_Unit` was filled using the median value).\n",
    "2. Standardizing categorical variables (e.g., replacing `None` with `NaN`).\n",
    "3. Removing 48,575 duplicate rows.\n",
    "\n",
    "### Key Columns:\n",
    "- **Total_Sales**: Total revenue from each transaction.\n",
    "- **Quantity**: Number of items purchased in a transaction.\n",
    "- **Price_per_Unit**: Target variable for prediction (dependent variable).\n",
    "```\n",
    "\n",
    "---\n",
    "\n",
    "### **3. Exploratory Data Analysis (EDA)**\n",
    "\n",
    "```plaintext\n",
    " 1. Transactions and Sales Trends\n",
    "- Sales peaked on **Fridays**, with weekends contributing the highest revenue.\n",
    "- Monthly sales showed consistent growth, with December performing best.\n",
    "\n",
    " 2. Sales by Category and Region\n",
    "- **Top Categories**: Beverages and Electronics contributed the most to overall sales.\n",
    "- **Top Region**: The **North region** accounted for 30% of total revenue.\n",
    "\n",
    " 3. Impact of Discounts\n",
    "- Transactions with discounts resulted in slightly higher sales volumes but lower average unit prices.\n",
    "```\n",
    "\n",
    "---\n",
    "\n",
    "### **4. Feature Engineering**\n",
    "```plaintext\n",
    "To prepare the dataset for machine learning, the following features were selected:\n",
    "1. **Total_Sales**: Represents overall revenue, strongly correlated with `Price_per_Unit`.\n",
    "2. **Quantity**: Captures the effect of bulk purchases on pricing.\n",
    "3. **Discount_Applied**: Indicates whether discounts influenced pricing.\n",
    "\n",
    "Features like `Transaction_ID` and `Customer_ID` were excluded as they do not add predictive value.\n",
    "```\n",
    "\n",
    "---\n",
    "\n",
    "### **5. Machine Learning Models**\n",
    "\n",
    "```plaintext\n",
    "\n",
    "### Models Applied:\n",
    "1. **Linear Regression**: A baseline model for price prediction.\n",
    "2. **Random Forest Regressor**: A robust ensemble model for capturing complex relationships.\n",
    "3. **Support Vector Regressor (SVR)**: A flexible model for non-linear relationships.\n",
    "\n",
    "### Evaluation Results:\n",
    "| Model                  | MAE   | MSE    | R² Score |\n",
    "|------------------------|-------|--------|----------|\n",
    "| Linear Regression      | 47.25 | 4494.6 | 0.77     |\n",
    "| Random Forest Regressor|  0.03 |  0.00  | 1.00     |\n",
    "| Support Vector Regressor | 46.09 | 4236.74 | 0.78   |\n",
    "\n",
    "**Best Model**: Random Forest Regressor achieved perfect accuracy (R² = 1.00), indicating it is the most effective model for this task.\n",
    "```\n",
    "\n",
    "---\n",
    "\n",
    "###  **6. Conclusion**\n",
    "\n",
    "```plaintext\n",
    "\n",
    "This project successfully analyzed superstore data to uncover sales trends and customer behavior. Using machine learning, we predicted `Price_per_Unit` with high accuracy. The **Random Forest Regressor** performed best, achieving an R² Score of 1.00 on the sampled dataset.\n",
    "\n",
    "**Key Insights**:\n",
    "- Discounts slightly increase sales volumes but reduce unit prices.\n",
    "- Beverages and Electronics are the top revenue-generating categories.\n",
    "- The North region contributes significantly to overall sales.\n",
    "\n",
    "Recommendations:\n",
    "1. Apply these models to larger datasets for better generalization.\n",
    "2. Include additional features (e.g., weather or store type) to enhance predictive performance.\n",
    "3. Investigate overfitting in Random Forest for larger datasets.\n",
    "```"
   ]
  }
 ],
 "metadata": {
  "kernelspec": {
   "display_name": "python_ml",
   "language": "python",
   "name": "python3"
  },
  "language_info": {
   "codemirror_mode": {
    "name": "ipython",
    "version": 3
   },
   "file_extension": ".py",
   "mimetype": "text/x-python",
   "name": "python",
   "nbconvert_exporter": "python",
   "pygments_lexer": "ipython3",
   "version": "3.13.0"
  }
 },
 "nbformat": 4,
 "nbformat_minor": 2
}
